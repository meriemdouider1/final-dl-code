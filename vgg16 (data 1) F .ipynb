{
  "nbformat": 4,
  "nbformat_minor": 0,
  "metadata": {
    "colab": {
      "name": "Untitled3.ipynb",
      "provenance": [],
      "authorship_tag": "ABX9TyNJif101G/norKprTO6eoam",
      "include_colab_link": true
    },
    "kernelspec": {
      "name": "python3",
      "display_name": "Python 3"
    },
    "accelerator": "GPU"
  },
  "cells": [
    {
      "cell_type": "markdown",
      "metadata": {
        "id": "view-in-github",
        "colab_type": "text"
      },
      "source": [
        "<a href=\"https://colab.research.google.com/github/meriemdouider1/final-dl-code/blob/main/vgg16%20(data%201)%20F%20.ipynb\" target=\"_parent\"><img src=\"https://colab.research.google.com/assets/colab-badge.svg\" alt=\"Open In Colab\"/></a>"
      ]
    },
    {
      "cell_type": "markdown",
      "metadata": {
        "id": "BqcihMEBkpfG"
      },
      "source": [
        "\n",
        "Installation des packages :"
      ]
    },
    {
      "cell_type": "code",
      "metadata": {
        "id": "jiRICeD6soHI"
      },
      "source": [
        "import json\n",
        "import math\n",
        "import os\n",
        "import cv2\n",
        "from PIL import Image\n",
        "import numpy as np\n",
        "from keras import layers\n",
        "from keras.preprocessing.image import ImageDataGenerator\n",
        "from keras.utils.np_utils import to_categorical# convert to one-hot-encoding\n",
        "from keras.models import Sequential\n",
        "from keras.optimizers import Adam\n",
        "import matplotlib.pyplot as plt\n",
        "import pandas as pd\n",
        "from sklearn.model_selection import train_test_split\n",
        "from sklearn.metrics import cohen_kappa_score, accuracy_score\n",
        "import scipy\n",
        "from tqdm import tqdm\n",
        "import tensorflow as tf\n",
        "from keras import backend as K\n",
        "import gc\n",
        "from functools import partial\n",
        "from sklearn import metrics\n",
        "from collections import Counter\n",
        "import json\n",
        "import itertools\n",
        "%matplotlib inline\n",
        "from glob import glob\n",
        "from keras import Model\n",
        "from keras.callbacks import ReduceLROnPlateau, EarlyStopping\n",
        "from tqdm import tqdm_notebook\n",
        "from keras.preprocessing.image import ImageDataGenerator\n",
        "from keras.layers import Input, Lambda, Dense, Flatten\n",
        "from keras.models import load_model, Model"
      ],
      "execution_count": null,
      "outputs": []
    },
    {
      "cell_type": "markdown",
      "metadata": {
        "id": "0iND4EDDlhwq"
      },
      "source": [
        "Tout d'abord, récupérons l'ensemble de données Glaucoma Positive  contre Glaucoma négative  en utilisant kaggle "
      ]
    },
    {
      "cell_type": "code",
      "metadata": {
        "id": "4f6a4IFIssnt"
      },
      "source": [
        "! pip install -q kaggle"
      ],
      "execution_count": null,
      "outputs": []
    },
    {
      "cell_type": "code",
      "metadata": {
        "id": "DYIRXnoBssqL"
      },
      "source": [
        "from google.colab import files"
      ],
      "execution_count": null,
      "outputs": []
    },
    {
      "cell_type": "code",
      "metadata": {
        "colab": {
          "resources": {
            "http://localhost:8080/nbextensions/google.colab/files.js": {
              "data": "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",
              "ok": true,
              "headers": [
                [
                  "content-type",
                  "application/javascript"
                ]
              ],
              "status": 200,
              "status_text": ""
            }
          },
          "base_uri": "https://localhost:8080/",
          "height": 89
        },
        "id": "p5okARSrsssz",
        "outputId": "535da984-b6a5-43a8-91d6-5ca8660df745"
      },
      "source": [
        "files.upload()"
      ],
      "execution_count": null,
      "outputs": [
        {
          "output_type": "display_data",
          "data": {
            "text/html": [
              "\n",
              "     <input type=\"file\" id=\"files-63476cc8-7f0a-439a-8dc3-27d02fe3177e\" name=\"files[]\" multiple disabled\n",
              "        style=\"border:none\" />\n",
              "     <output id=\"result-63476cc8-7f0a-439a-8dc3-27d02fe3177e\">\n",
              "      Upload widget is only available when the cell has been executed in the\n",
              "      current browser session. Please rerun this cell to enable.\n",
              "      </output>\n",
              "      <script src=\"/nbextensions/google.colab/files.js\"></script> "
            ],
            "text/plain": [
              "<IPython.core.display.HTML object>"
            ]
          },
          "metadata": {
            "tags": []
          }
        },
        {
          "output_type": "stream",
          "text": [
            "Saving kaggle.json to kaggle (4).json\n"
          ],
          "name": "stdout"
        },
        {
          "output_type": "execute_result",
          "data": {
            "text/plain": [
              "{'kaggle.json': b'{\"username\":\"meryemdouider\",\"key\":\"71abdf1b37f401d9b4f539d2b43177eb\"}'}"
            ]
          },
          "metadata": {
            "tags": []
          },
          "execution_count": 129
        }
      ]
    },
    {
      "cell_type": "code",
      "metadata": {
        "colab": {
          "base_uri": "https://localhost:8080/"
        },
        "id": "NEslhvslssvI",
        "outputId": "4720b5e3-1d61-4b25-d6e9-01c195eecebb"
      },
      "source": [
        "!mkdir -p ~/.kaggle\n",
        "!cp kaggle.json ~/.kaggle/\n",
        "!ls ~/.kaggle\n",
        "!chmod 600 /root/.kaggle/kaggle.json\n",
        "!kaggle datasets download \"sshikamaru/glaucoma-detection\""
      ],
      "execution_count": null,
      "outputs": [
        {
          "output_type": "stream",
          "text": [
            "kaggle.json\n",
            "glaucoma-detection.zip: Skipping, found more recently modified local copy (use --force to force download)\n"
          ],
          "name": "stdout"
        }
      ]
    },
    {
      "cell_type": "code",
      "metadata": {
        "colab": {
          "base_uri": "https://localhost:8080/"
        },
        "id": "lwrDa9Dhssxm",
        "outputId": "9e604dba-e205-4bab-e3b7-ee5a7d4a8c17"
      },
      "source": [
        "!unzip glaucoma-detection.zip"
      ],
      "execution_count": null,
      "outputs": [
        {
          "output_type": "stream",
          "text": [
            "Archive:  glaucoma-detection.zip\n",
            "replace Fundus_Train_Val_Data/Fundus_Scanes_Sorted/Train/Glaucoma_Negative/001.jpg? [y]es, [n]o, [A]ll, [N]one, [r]ename: A\n",
            "  inflating: Fundus_Train_Val_Data/Fundus_Scanes_Sorted/Train/Glaucoma_Negative/001.jpg  \n",
            "  inflating: Fundus_Train_Val_Data/Fundus_Scanes_Sorted/Train/Glaucoma_Negative/002.jpg  \n",
            "  inflating: Fundus_Train_Val_Data/Fundus_Scanes_Sorted/Train/Glaucoma_Negative/003.jpg  \n",
            "  inflating: Fundus_Train_Val_Data/Fundus_Scanes_Sorted/Train/Glaucoma_Negative/004.jpg  \n",
            "  inflating: Fundus_Train_Val_Data/Fundus_Scanes_Sorted/Train/Glaucoma_Negative/005.jpg  \n",
            "  inflating: Fundus_Train_Val_Data/Fundus_Scanes_Sorted/Train/Glaucoma_Negative/006.jpg  \n",
            "  inflating: Fundus_Train_Val_Data/Fundus_Scanes_Sorted/Train/Glaucoma_Negative/007.jpg  \n",
            "  inflating: Fundus_Train_Val_Data/Fundus_Scanes_Sorted/Train/Glaucoma_Negative/008.jpg  \n",
            "  inflating: Fundus_Train_Val_Data/Fundus_Scanes_Sorted/Train/Glaucoma_Negative/009.jpg  \n",
            "  inflating: Fundus_Train_Val_Data/Fundus_Scanes_Sorted/Train/Glaucoma_Negative/010.jpg  \n",
            "  inflating: Fundus_Train_Val_Data/Fundus_Scanes_Sorted/Train/Glaucoma_Negative/011.jpg  \n",
            "  inflating: Fundus_Train_Val_Data/Fundus_Scanes_Sorted/Train/Glaucoma_Negative/012.jpg  \n",
            "  inflating: Fundus_Train_Val_Data/Fundus_Scanes_Sorted/Train/Glaucoma_Negative/013.jpg  \n",
            "  inflating: Fundus_Train_Val_Data/Fundus_Scanes_Sorted/Train/Glaucoma_Negative/014.jpg  \n",
            "  inflating: Fundus_Train_Val_Data/Fundus_Scanes_Sorted/Train/Glaucoma_Negative/015.jpg  \n",
            "  inflating: Fundus_Train_Val_Data/Fundus_Scanes_Sorted/Train/Glaucoma_Negative/016.jpg  \n",
            "  inflating: Fundus_Train_Val_Data/Fundus_Scanes_Sorted/Train/Glaucoma_Negative/017.jpg  \n",
            "  inflating: Fundus_Train_Val_Data/Fundus_Scanes_Sorted/Train/Glaucoma_Negative/018.jpg  \n",
            "  inflating: Fundus_Train_Val_Data/Fundus_Scanes_Sorted/Train/Glaucoma_Negative/019.jpg  \n",
            "  inflating: Fundus_Train_Val_Data/Fundus_Scanes_Sorted/Train/Glaucoma_Negative/020.jpg  \n",
            "  inflating: Fundus_Train_Val_Data/Fundus_Scanes_Sorted/Train/Glaucoma_Negative/021.jpg  \n",
            "  inflating: Fundus_Train_Val_Data/Fundus_Scanes_Sorted/Train/Glaucoma_Negative/022.jpg  \n",
            "  inflating: Fundus_Train_Val_Data/Fundus_Scanes_Sorted/Train/Glaucoma_Negative/023.jpg  \n",
            "  inflating: Fundus_Train_Val_Data/Fundus_Scanes_Sorted/Train/Glaucoma_Negative/024.jpg  \n",
            "  inflating: Fundus_Train_Val_Data/Fundus_Scanes_Sorted/Train/Glaucoma_Negative/025.jpg  \n",
            "  inflating: Fundus_Train_Val_Data/Fundus_Scanes_Sorted/Train/Glaucoma_Negative/026.jpg  \n",
            "  inflating: Fundus_Train_Val_Data/Fundus_Scanes_Sorted/Train/Glaucoma_Negative/027.jpg  \n",
            "  inflating: Fundus_Train_Val_Data/Fundus_Scanes_Sorted/Train/Glaucoma_Negative/028.jpg  \n",
            "  inflating: Fundus_Train_Val_Data/Fundus_Scanes_Sorted/Train/Glaucoma_Negative/029.jpg  \n",
            "  inflating: Fundus_Train_Val_Data/Fundus_Scanes_Sorted/Train/Glaucoma_Negative/030.jpg  \n",
            "  inflating: Fundus_Train_Val_Data/Fundus_Scanes_Sorted/Train/Glaucoma_Negative/031.jpg  \n",
            "  inflating: Fundus_Train_Val_Data/Fundus_Scanes_Sorted/Train/Glaucoma_Negative/032.jpg  \n",
            "  inflating: Fundus_Train_Val_Data/Fundus_Scanes_Sorted/Train/Glaucoma_Negative/033.jpg  \n",
            "  inflating: Fundus_Train_Val_Data/Fundus_Scanes_Sorted/Train/Glaucoma_Negative/034.jpg  \n",
            "  inflating: Fundus_Train_Val_Data/Fundus_Scanes_Sorted/Train/Glaucoma_Negative/035.jpg  \n",
            "  inflating: Fundus_Train_Val_Data/Fundus_Scanes_Sorted/Train/Glaucoma_Negative/038.jpg  \n",
            "  inflating: Fundus_Train_Val_Data/Fundus_Scanes_Sorted/Train/Glaucoma_Negative/039.jpg  \n",
            "  inflating: Fundus_Train_Val_Data/Fundus_Scanes_Sorted/Train/Glaucoma_Negative/040.jpg  \n",
            "  inflating: Fundus_Train_Val_Data/Fundus_Scanes_Sorted/Train/Glaucoma_Negative/042.jpg  \n",
            "  inflating: Fundus_Train_Val_Data/Fundus_Scanes_Sorted/Train/Glaucoma_Negative/043.jpg  \n",
            "  inflating: Fundus_Train_Val_Data/Fundus_Scanes_Sorted/Train/Glaucoma_Negative/044.jpg  \n",
            "  inflating: Fundus_Train_Val_Data/Fundus_Scanes_Sorted/Train/Glaucoma_Negative/045.jpg  \n",
            "  inflating: Fundus_Train_Val_Data/Fundus_Scanes_Sorted/Train/Glaucoma_Negative/046.jpg  \n",
            "  inflating: Fundus_Train_Val_Data/Fundus_Scanes_Sorted/Train/Glaucoma_Negative/047.jpg  \n",
            "  inflating: Fundus_Train_Val_Data/Fundus_Scanes_Sorted/Train/Glaucoma_Negative/048.jpg  \n",
            "  inflating: Fundus_Train_Val_Data/Fundus_Scanes_Sorted/Train/Glaucoma_Negative/049.jpg  \n",
            "  inflating: Fundus_Train_Val_Data/Fundus_Scanes_Sorted/Train/Glaucoma_Negative/051.jpg  \n",
            "  inflating: Fundus_Train_Val_Data/Fundus_Scanes_Sorted/Train/Glaucoma_Negative/052.jpg  \n",
            "  inflating: Fundus_Train_Val_Data/Fundus_Scanes_Sorted/Train/Glaucoma_Negative/053.jpg  \n",
            "  inflating: Fundus_Train_Val_Data/Fundus_Scanes_Sorted/Train/Glaucoma_Negative/054.jpg  \n",
            "  inflating: Fundus_Train_Val_Data/Fundus_Scanes_Sorted/Train/Glaucoma_Negative/055.jpg  \n",
            "  inflating: Fundus_Train_Val_Data/Fundus_Scanes_Sorted/Train/Glaucoma_Negative/056.jpg  \n",
            "  inflating: Fundus_Train_Val_Data/Fundus_Scanes_Sorted/Train/Glaucoma_Negative/057.jpg  \n",
            "  inflating: Fundus_Train_Val_Data/Fundus_Scanes_Sorted/Train/Glaucoma_Negative/058.jpg  \n",
            "  inflating: Fundus_Train_Val_Data/Fundus_Scanes_Sorted/Train/Glaucoma_Negative/059.jpg  \n",
            "  inflating: Fundus_Train_Val_Data/Fundus_Scanes_Sorted/Train/Glaucoma_Negative/060.jpg  \n",
            "  inflating: Fundus_Train_Val_Data/Fundus_Scanes_Sorted/Train/Glaucoma_Negative/061.jpg  \n",
            "  inflating: Fundus_Train_Val_Data/Fundus_Scanes_Sorted/Train/Glaucoma_Negative/062.jpg  \n",
            "  inflating: Fundus_Train_Val_Data/Fundus_Scanes_Sorted/Train/Glaucoma_Negative/063.jpg  \n",
            "  inflating: Fundus_Train_Val_Data/Fundus_Scanes_Sorted/Train/Glaucoma_Negative/064.jpg  \n",
            "  inflating: Fundus_Train_Val_Data/Fundus_Scanes_Sorted/Train/Glaucoma_Negative/065.jpg  \n",
            "  inflating: Fundus_Train_Val_Data/Fundus_Scanes_Sorted/Train/Glaucoma_Negative/066.jpg  \n",
            "  inflating: Fundus_Train_Val_Data/Fundus_Scanes_Sorted/Train/Glaucoma_Negative/067.jpg  \n",
            "  inflating: Fundus_Train_Val_Data/Fundus_Scanes_Sorted/Train/Glaucoma_Negative/068.jpg  \n",
            "  inflating: Fundus_Train_Val_Data/Fundus_Scanes_Sorted/Train/Glaucoma_Negative/070.jpg  \n",
            "  inflating: Fundus_Train_Val_Data/Fundus_Scanes_Sorted/Train/Glaucoma_Negative/071.jpg  \n",
            "  inflating: Fundus_Train_Val_Data/Fundus_Scanes_Sorted/Train/Glaucoma_Negative/073.jpg  \n",
            "  inflating: Fundus_Train_Val_Data/Fundus_Scanes_Sorted/Train/Glaucoma_Negative/074.jpg  \n",
            "  inflating: Fundus_Train_Val_Data/Fundus_Scanes_Sorted/Train/Glaucoma_Negative/075.jpg  \n",
            "  inflating: Fundus_Train_Val_Data/Fundus_Scanes_Sorted/Train/Glaucoma_Negative/077.jpg  \n",
            "  inflating: Fundus_Train_Val_Data/Fundus_Scanes_Sorted/Train/Glaucoma_Negative/078.jpg  \n",
            "  inflating: Fundus_Train_Val_Data/Fundus_Scanes_Sorted/Train/Glaucoma_Negative/079.jpg  \n",
            "  inflating: Fundus_Train_Val_Data/Fundus_Scanes_Sorted/Train/Glaucoma_Negative/080.jpg  \n",
            "  inflating: Fundus_Train_Val_Data/Fundus_Scanes_Sorted/Train/Glaucoma_Negative/081.jpg  \n",
            "  inflating: Fundus_Train_Val_Data/Fundus_Scanes_Sorted/Train/Glaucoma_Negative/082.jpg  \n",
            "  inflating: Fundus_Train_Val_Data/Fundus_Scanes_Sorted/Train/Glaucoma_Negative/083.jpg  \n",
            "  inflating: Fundus_Train_Val_Data/Fundus_Scanes_Sorted/Train/Glaucoma_Negative/084.jpg  \n",
            "  inflating: Fundus_Train_Val_Data/Fundus_Scanes_Sorted/Train/Glaucoma_Negative/085.jpg  \n",
            "  inflating: Fundus_Train_Val_Data/Fundus_Scanes_Sorted/Train/Glaucoma_Negative/088.jpg  \n",
            "  inflating: Fundus_Train_Val_Data/Fundus_Scanes_Sorted/Train/Glaucoma_Negative/089.jpg  \n",
            "  inflating: Fundus_Train_Val_Data/Fundus_Scanes_Sorted/Train/Glaucoma_Negative/090.jpg  \n",
            "  inflating: Fundus_Train_Val_Data/Fundus_Scanes_Sorted/Train/Glaucoma_Negative/091.jpg  \n",
            "  inflating: Fundus_Train_Val_Data/Fundus_Scanes_Sorted/Train/Glaucoma_Negative/092.jpg  \n",
            "  inflating: Fundus_Train_Val_Data/Fundus_Scanes_Sorted/Train/Glaucoma_Negative/095.jpg  \n",
            "  inflating: Fundus_Train_Val_Data/Fundus_Scanes_Sorted/Train/Glaucoma_Negative/096.jpg  \n",
            "  inflating: Fundus_Train_Val_Data/Fundus_Scanes_Sorted/Train/Glaucoma_Negative/098.jpg  \n",
            "  inflating: Fundus_Train_Val_Data/Fundus_Scanes_Sorted/Train/Glaucoma_Negative/099.jpg  \n",
            "  inflating: Fundus_Train_Val_Data/Fundus_Scanes_Sorted/Train/Glaucoma_Negative/100.jpg  \n",
            "  inflating: Fundus_Train_Val_Data/Fundus_Scanes_Sorted/Train/Glaucoma_Negative/101.jpg  \n",
            "  inflating: Fundus_Train_Val_Data/Fundus_Scanes_Sorted/Train/Glaucoma_Negative/102.jpg  \n",
            "  inflating: Fundus_Train_Val_Data/Fundus_Scanes_Sorted/Train/Glaucoma_Negative/103.jpg  \n",
            "  inflating: Fundus_Train_Val_Data/Fundus_Scanes_Sorted/Train/Glaucoma_Negative/104.jpg  \n",
            "  inflating: Fundus_Train_Val_Data/Fundus_Scanes_Sorted/Train/Glaucoma_Negative/105.jpg  \n",
            "  inflating: Fundus_Train_Val_Data/Fundus_Scanes_Sorted/Train/Glaucoma_Negative/106.jpg  \n",
            "  inflating: Fundus_Train_Val_Data/Fundus_Scanes_Sorted/Train/Glaucoma_Negative/107.jpg  \n",
            "  inflating: Fundus_Train_Val_Data/Fundus_Scanes_Sorted/Train/Glaucoma_Negative/108.jpg  \n",
            "  inflating: Fundus_Train_Val_Data/Fundus_Scanes_Sorted/Train/Glaucoma_Negative/109.jpg  \n",
            "  inflating: Fundus_Train_Val_Data/Fundus_Scanes_Sorted/Train/Glaucoma_Negative/111.jpg  \n",
            "  inflating: Fundus_Train_Val_Data/Fundus_Scanes_Sorted/Train/Glaucoma_Negative/112.jpg  \n",
            "  inflating: Fundus_Train_Val_Data/Fundus_Scanes_Sorted/Train/Glaucoma_Negative/113.jpg  \n",
            "  inflating: Fundus_Train_Val_Data/Fundus_Scanes_Sorted/Train/Glaucoma_Negative/114.jpg  \n",
            "  inflating: Fundus_Train_Val_Data/Fundus_Scanes_Sorted/Train/Glaucoma_Negative/115.jpg  \n",
            "  inflating: Fundus_Train_Val_Data/Fundus_Scanes_Sorted/Train/Glaucoma_Negative/117.jpg  \n",
            "  inflating: Fundus_Train_Val_Data/Fundus_Scanes_Sorted/Train/Glaucoma_Negative/118.jpg  \n",
            "  inflating: Fundus_Train_Val_Data/Fundus_Scanes_Sorted/Train/Glaucoma_Negative/119.jpg  \n",
            "  inflating: Fundus_Train_Val_Data/Fundus_Scanes_Sorted/Train/Glaucoma_Negative/120.jpg  \n",
            "  inflating: Fundus_Train_Val_Data/Fundus_Scanes_Sorted/Train/Glaucoma_Negative/121.jpg  \n",
            "  inflating: Fundus_Train_Val_Data/Fundus_Scanes_Sorted/Train/Glaucoma_Negative/122.jpg  \n",
            "  inflating: Fundus_Train_Val_Data/Fundus_Scanes_Sorted/Train/Glaucoma_Negative/123.jpg  \n",
            "  inflating: Fundus_Train_Val_Data/Fundus_Scanes_Sorted/Train/Glaucoma_Negative/124.jpg  \n",
            "  inflating: Fundus_Train_Val_Data/Fundus_Scanes_Sorted/Train/Glaucoma_Negative/125.jpg  \n",
            "  inflating: Fundus_Train_Val_Data/Fundus_Scanes_Sorted/Train/Glaucoma_Negative/126.jpg  \n",
            "  inflating: Fundus_Train_Val_Data/Fundus_Scanes_Sorted/Train/Glaucoma_Negative/127.jpg  \n",
            "  inflating: Fundus_Train_Val_Data/Fundus_Scanes_Sorted/Train/Glaucoma_Negative/128.jpg  \n",
            "  inflating: Fundus_Train_Val_Data/Fundus_Scanes_Sorted/Train/Glaucoma_Negative/129.jpg  \n",
            "  inflating: Fundus_Train_Val_Data/Fundus_Scanes_Sorted/Train/Glaucoma_Negative/130.jpg  \n",
            "  inflating: Fundus_Train_Val_Data/Fundus_Scanes_Sorted/Train/Glaucoma_Negative/131.jpg  \n",
            "  inflating: Fundus_Train_Val_Data/Fundus_Scanes_Sorted/Train/Glaucoma_Negative/132.jpg  \n",
            "  inflating: Fundus_Train_Val_Data/Fundus_Scanes_Sorted/Train/Glaucoma_Negative/133.jpg  \n",
            "  inflating: Fundus_Train_Val_Data/Fundus_Scanes_Sorted/Train/Glaucoma_Negative/134.jpg  \n",
            "  inflating: Fundus_Train_Val_Data/Fundus_Scanes_Sorted/Train/Glaucoma_Negative/135.jpg  \n",
            "  inflating: Fundus_Train_Val_Data/Fundus_Scanes_Sorted/Train/Glaucoma_Negative/136.jpg  \n",
            "  inflating: Fundus_Train_Val_Data/Fundus_Scanes_Sorted/Train/Glaucoma_Negative/137.jpg  \n",
            "  inflating: Fundus_Train_Val_Data/Fundus_Scanes_Sorted/Train/Glaucoma_Negative/139.jpg  \n",
            "  inflating: Fundus_Train_Val_Data/Fundus_Scanes_Sorted/Train/Glaucoma_Negative/140.jpg  \n",
            "  inflating: Fundus_Train_Val_Data/Fundus_Scanes_Sorted/Train/Glaucoma_Negative/141.jpg  \n",
            "  inflating: Fundus_Train_Val_Data/Fundus_Scanes_Sorted/Train/Glaucoma_Negative/142.jpg  \n",
            "  inflating: Fundus_Train_Val_Data/Fundus_Scanes_Sorted/Train/Glaucoma_Negative/143.jpg  \n",
            "  inflating: Fundus_Train_Val_Data/Fundus_Scanes_Sorted/Train/Glaucoma_Negative/144.jpg  \n",
            "  inflating: Fundus_Train_Val_Data/Fundus_Scanes_Sorted/Train/Glaucoma_Negative/145.jpg  \n",
            "  inflating: Fundus_Train_Val_Data/Fundus_Scanes_Sorted/Train/Glaucoma_Negative/146.jpg  \n",
            "  inflating: Fundus_Train_Val_Data/Fundus_Scanes_Sorted/Train/Glaucoma_Negative/147.jpg  \n",
            "  inflating: Fundus_Train_Val_Data/Fundus_Scanes_Sorted/Train/Glaucoma_Negative/148.jpg  \n",
            "  inflating: Fundus_Train_Val_Data/Fundus_Scanes_Sorted/Train/Glaucoma_Negative/149.jpg  \n",
            "  inflating: Fundus_Train_Val_Data/Fundus_Scanes_Sorted/Train/Glaucoma_Negative/150.jpg  \n",
            "  inflating: Fundus_Train_Val_Data/Fundus_Scanes_Sorted/Train/Glaucoma_Negative/151.jpg  \n",
            "  inflating: Fundus_Train_Val_Data/Fundus_Scanes_Sorted/Train/Glaucoma_Negative/152.jpg  \n",
            "  inflating: Fundus_Train_Val_Data/Fundus_Scanes_Sorted/Train/Glaucoma_Negative/153.jpg  \n",
            "  inflating: Fundus_Train_Val_Data/Fundus_Scanes_Sorted/Train/Glaucoma_Negative/154.jpg  \n",
            "  inflating: Fundus_Train_Val_Data/Fundus_Scanes_Sorted/Train/Glaucoma_Negative/155.jpg  \n",
            "  inflating: Fundus_Train_Val_Data/Fundus_Scanes_Sorted/Train/Glaucoma_Negative/156.jpg  \n",
            "  inflating: Fundus_Train_Val_Data/Fundus_Scanes_Sorted/Train/Glaucoma_Negative/157.jpg  \n",
            "  inflating: Fundus_Train_Val_Data/Fundus_Scanes_Sorted/Train/Glaucoma_Negative/161.jpg  \n",
            "  inflating: Fundus_Train_Val_Data/Fundus_Scanes_Sorted/Train/Glaucoma_Negative/162.jpg  \n",
            "  inflating: Fundus_Train_Val_Data/Fundus_Scanes_Sorted/Train/Glaucoma_Negative/163.jpg  \n",
            "  inflating: Fundus_Train_Val_Data/Fundus_Scanes_Sorted/Train/Glaucoma_Negative/164.jpg  \n",
            "  inflating: Fundus_Train_Val_Data/Fundus_Scanes_Sorted/Train/Glaucoma_Negative/166.jpg  \n",
            "  inflating: Fundus_Train_Val_Data/Fundus_Scanes_Sorted/Train/Glaucoma_Negative/167.jpg  \n",
            "  inflating: Fundus_Train_Val_Data/Fundus_Scanes_Sorted/Train/Glaucoma_Negative/169.jpg  \n",
            "  inflating: Fundus_Train_Val_Data/Fundus_Scanes_Sorted/Train/Glaucoma_Negative/170.jpg  \n",
            "  inflating: Fundus_Train_Val_Data/Fundus_Scanes_Sorted/Train/Glaucoma_Negative/172.jpg  \n",
            "  inflating: Fundus_Train_Val_Data/Fundus_Scanes_Sorted/Train/Glaucoma_Negative/173.jpg  \n",
            "  inflating: Fundus_Train_Val_Data/Fundus_Scanes_Sorted/Train/Glaucoma_Negative/174.jpg  \n",
            "  inflating: Fundus_Train_Val_Data/Fundus_Scanes_Sorted/Train/Glaucoma_Negative/175.jpg  \n",
            "  inflating: Fundus_Train_Val_Data/Fundus_Scanes_Sorted/Train/Glaucoma_Negative/176.jpg  \n",
            "  inflating: Fundus_Train_Val_Data/Fundus_Scanes_Sorted/Train/Glaucoma_Negative/177.jpg  \n",
            "  inflating: Fundus_Train_Val_Data/Fundus_Scanes_Sorted/Train/Glaucoma_Negative/178.jpg  \n",
            "  inflating: Fundus_Train_Val_Data/Fundus_Scanes_Sorted/Train/Glaucoma_Negative/179.jpg  \n",
            "  inflating: Fundus_Train_Val_Data/Fundus_Scanes_Sorted/Train/Glaucoma_Negative/183.jpg  \n",
            "  inflating: Fundus_Train_Val_Data/Fundus_Scanes_Sorted/Train/Glaucoma_Negative/184.jpg  \n",
            "  inflating: Fundus_Train_Val_Data/Fundus_Scanes_Sorted/Train/Glaucoma_Negative/185.jpg  \n",
            "  inflating: Fundus_Train_Val_Data/Fundus_Scanes_Sorted/Train/Glaucoma_Negative/186.jpg  \n",
            "  inflating: Fundus_Train_Val_Data/Fundus_Scanes_Sorted/Train/Glaucoma_Negative/187.jpg  \n",
            "  inflating: Fundus_Train_Val_Data/Fundus_Scanes_Sorted/Train/Glaucoma_Negative/188.jpg  \n",
            "  inflating: Fundus_Train_Val_Data/Fundus_Scanes_Sorted/Train/Glaucoma_Negative/189.jpg  \n",
            "  inflating: Fundus_Train_Val_Data/Fundus_Scanes_Sorted/Train/Glaucoma_Negative/190.jpg  \n",
            "  inflating: Fundus_Train_Val_Data/Fundus_Scanes_Sorted/Train/Glaucoma_Negative/191.jpg  \n",
            "  inflating: Fundus_Train_Val_Data/Fundus_Scanes_Sorted/Train/Glaucoma_Negative/192.jpg  \n",
            "  inflating: Fundus_Train_Val_Data/Fundus_Scanes_Sorted/Train/Glaucoma_Negative/193.jpg  \n",
            "  inflating: Fundus_Train_Val_Data/Fundus_Scanes_Sorted/Train/Glaucoma_Negative/194.jpg  \n",
            "  inflating: Fundus_Train_Val_Data/Fundus_Scanes_Sorted/Train/Glaucoma_Negative/195.jpg  \n",
            "  inflating: Fundus_Train_Val_Data/Fundus_Scanes_Sorted/Train/Glaucoma_Negative/196.jpg  \n",
            "  inflating: Fundus_Train_Val_Data/Fundus_Scanes_Sorted/Train/Glaucoma_Negative/197.jpg  \n",
            "  inflating: Fundus_Train_Val_Data/Fundus_Scanes_Sorted/Train/Glaucoma_Negative/198.jpg  \n",
            "  inflating: Fundus_Train_Val_Data/Fundus_Scanes_Sorted/Train/Glaucoma_Negative/199.jpg  \n",
            "  inflating: Fundus_Train_Val_Data/Fundus_Scanes_Sorted/Train/Glaucoma_Negative/200.jpg  \n",
            "  inflating: Fundus_Train_Val_Data/Fundus_Scanes_Sorted/Train/Glaucoma_Negative/201.jpg  \n",
            "  inflating: Fundus_Train_Val_Data/Fundus_Scanes_Sorted/Train/Glaucoma_Negative/202.jpg  \n",
            "  inflating: Fundus_Train_Val_Data/Fundus_Scanes_Sorted/Train/Glaucoma_Negative/203.jpg  \n",
            "  inflating: Fundus_Train_Val_Data/Fundus_Scanes_Sorted/Train/Glaucoma_Negative/204.jpg  \n",
            "  inflating: Fundus_Train_Val_Data/Fundus_Scanes_Sorted/Train/Glaucoma_Negative/205.jpg  \n",
            "  inflating: Fundus_Train_Val_Data/Fundus_Scanes_Sorted/Train/Glaucoma_Negative/206.jpg  \n",
            "  inflating: Fundus_Train_Val_Data/Fundus_Scanes_Sorted/Train/Glaucoma_Negative/207.jpg  \n",
            "  inflating: Fundus_Train_Val_Data/Fundus_Scanes_Sorted/Train/Glaucoma_Negative/209.jpg  \n",
            "  inflating: Fundus_Train_Val_Data/Fundus_Scanes_Sorted/Train/Glaucoma_Negative/210.jpg  \n",
            "  inflating: Fundus_Train_Val_Data/Fundus_Scanes_Sorted/Train/Glaucoma_Negative/211.jpg  \n",
            "  inflating: Fundus_Train_Val_Data/Fundus_Scanes_Sorted/Train/Glaucoma_Negative/212.jpg  \n",
            "  inflating: Fundus_Train_Val_Data/Fundus_Scanes_Sorted/Train/Glaucoma_Negative/214.jpg  \n",
            "  inflating: Fundus_Train_Val_Data/Fundus_Scanes_Sorted/Train/Glaucoma_Negative/215.jpg  \n",
            "  inflating: Fundus_Train_Val_Data/Fundus_Scanes_Sorted/Train/Glaucoma_Negative/216.jpg  \n",
            "  inflating: Fundus_Train_Val_Data/Fundus_Scanes_Sorted/Train/Glaucoma_Negative/217.jpg  \n",
            "  inflating: Fundus_Train_Val_Data/Fundus_Scanes_Sorted/Train/Glaucoma_Negative/218.jpg  \n",
            "  inflating: Fundus_Train_Val_Data/Fundus_Scanes_Sorted/Train/Glaucoma_Negative/219.jpg  \n",
            "  inflating: Fundus_Train_Val_Data/Fundus_Scanes_Sorted/Train/Glaucoma_Negative/220.jpg  \n",
            "  inflating: Fundus_Train_Val_Data/Fundus_Scanes_Sorted/Train/Glaucoma_Negative/221.jpg  \n",
            "  inflating: Fundus_Train_Val_Data/Fundus_Scanes_Sorted/Train/Glaucoma_Negative/222.jpg  \n",
            "  inflating: Fundus_Train_Val_Data/Fundus_Scanes_Sorted/Train/Glaucoma_Negative/223.jpg  \n",
            "  inflating: Fundus_Train_Val_Data/Fundus_Scanes_Sorted/Train/Glaucoma_Negative/224.jpg  \n",
            "  inflating: Fundus_Train_Val_Data/Fundus_Scanes_Sorted/Train/Glaucoma_Negative/226.jpg  \n",
            "  inflating: Fundus_Train_Val_Data/Fundus_Scanes_Sorted/Train/Glaucoma_Negative/227.jpg  \n",
            "  inflating: Fundus_Train_Val_Data/Fundus_Scanes_Sorted/Train/Glaucoma_Negative/230.jpg  \n",
            "  inflating: Fundus_Train_Val_Data/Fundus_Scanes_Sorted/Train/Glaucoma_Negative/231.jpg  \n",
            "  inflating: Fundus_Train_Val_Data/Fundus_Scanes_Sorted/Train/Glaucoma_Negative/232.jpg  \n",
            "  inflating: Fundus_Train_Val_Data/Fundus_Scanes_Sorted/Train/Glaucoma_Negative/234.jpg  \n",
            "  inflating: Fundus_Train_Val_Data/Fundus_Scanes_Sorted/Train/Glaucoma_Negative/235.jpg  \n",
            "  inflating: Fundus_Train_Val_Data/Fundus_Scanes_Sorted/Train/Glaucoma_Negative/236.jpg  \n",
            "  inflating: Fundus_Train_Val_Data/Fundus_Scanes_Sorted/Train/Glaucoma_Negative/237.jpg  \n",
            "  inflating: Fundus_Train_Val_Data/Fundus_Scanes_Sorted/Train/Glaucoma_Negative/238.jpg  \n",
            "  inflating: Fundus_Train_Val_Data/Fundus_Scanes_Sorted/Train/Glaucoma_Negative/239.jpg  \n",
            "  inflating: Fundus_Train_Val_Data/Fundus_Scanes_Sorted/Train/Glaucoma_Negative/242.jpg  \n",
            "  inflating: Fundus_Train_Val_Data/Fundus_Scanes_Sorted/Train/Glaucoma_Negative/243.jpg  \n",
            "  inflating: Fundus_Train_Val_Data/Fundus_Scanes_Sorted/Train/Glaucoma_Negative/244.jpg  \n",
            "  inflating: Fundus_Train_Val_Data/Fundus_Scanes_Sorted/Train/Glaucoma_Negative/248.jpg  \n",
            "  inflating: Fundus_Train_Val_Data/Fundus_Scanes_Sorted/Train/Glaucoma_Negative/249.jpg  \n",
            "  inflating: Fundus_Train_Val_Data/Fundus_Scanes_Sorted/Train/Glaucoma_Negative/250.jpg  \n",
            "  inflating: Fundus_Train_Val_Data/Fundus_Scanes_Sorted/Train/Glaucoma_Negative/251.jpg  \n",
            "  inflating: Fundus_Train_Val_Data/Fundus_Scanes_Sorted/Train/Glaucoma_Negative/252.jpg  \n",
            "  inflating: Fundus_Train_Val_Data/Fundus_Scanes_Sorted/Train/Glaucoma_Negative/253.jpg  \n",
            "  inflating: Fundus_Train_Val_Data/Fundus_Scanes_Sorted/Train/Glaucoma_Negative/254.jpg  \n",
            "  inflating: Fundus_Train_Val_Data/Fundus_Scanes_Sorted/Train/Glaucoma_Negative/255.jpg  \n",
            "  inflating: Fundus_Train_Val_Data/Fundus_Scanes_Sorted/Train/Glaucoma_Negative/256.jpg  \n",
            "  inflating: Fundus_Train_Val_Data/Fundus_Scanes_Sorted/Train/Glaucoma_Negative/257.jpg  \n",
            "  inflating: Fundus_Train_Val_Data/Fundus_Scanes_Sorted/Train/Glaucoma_Negative/258.jpg  \n",
            "  inflating: Fundus_Train_Val_Data/Fundus_Scanes_Sorted/Train/Glaucoma_Negative/259.jpg  \n",
            "  inflating: Fundus_Train_Val_Data/Fundus_Scanes_Sorted/Train/Glaucoma_Negative/260.jpg  \n",
            "  inflating: Fundus_Train_Val_Data/Fundus_Scanes_Sorted/Train/Glaucoma_Negative/261.jpg  \n",
            "  inflating: Fundus_Train_Val_Data/Fundus_Scanes_Sorted/Train/Glaucoma_Negative/262.jpg  \n",
            "  inflating: Fundus_Train_Val_Data/Fundus_Scanes_Sorted/Train/Glaucoma_Negative/263.jpg  \n",
            "  inflating: Fundus_Train_Val_Data/Fundus_Scanes_Sorted/Train/Glaucoma_Negative/264.jpg  \n",
            "  inflating: Fundus_Train_Val_Data/Fundus_Scanes_Sorted/Train/Glaucoma_Negative/265.jpg  \n",
            "  inflating: Fundus_Train_Val_Data/Fundus_Scanes_Sorted/Train/Glaucoma_Negative/266.jpg  \n",
            "  inflating: Fundus_Train_Val_Data/Fundus_Scanes_Sorted/Train/Glaucoma_Negative/267.jpg  \n",
            "  inflating: Fundus_Train_Val_Data/Fundus_Scanes_Sorted/Train/Glaucoma_Negative/268.jpg  \n",
            "  inflating: Fundus_Train_Val_Data/Fundus_Scanes_Sorted/Train/Glaucoma_Negative/271.jpg  \n",
            "  inflating: Fundus_Train_Val_Data/Fundus_Scanes_Sorted/Train/Glaucoma_Negative/272.jpg  \n",
            "  inflating: Fundus_Train_Val_Data/Fundus_Scanes_Sorted/Train/Glaucoma_Negative/274.jpg  \n",
            "  inflating: Fundus_Train_Val_Data/Fundus_Scanes_Sorted/Train/Glaucoma_Negative/275.jpg  \n",
            "  inflating: Fundus_Train_Val_Data/Fundus_Scanes_Sorted/Train/Glaucoma_Negative/276.jpg  \n",
            "  inflating: Fundus_Train_Val_Data/Fundus_Scanes_Sorted/Train/Glaucoma_Negative/279.jpg  \n",
            "  inflating: Fundus_Train_Val_Data/Fundus_Scanes_Sorted/Train/Glaucoma_Negative/280.jpg  \n",
            "  inflating: Fundus_Train_Val_Data/Fundus_Scanes_Sorted/Train/Glaucoma_Negative/281.jpg  \n",
            "  inflating: Fundus_Train_Val_Data/Fundus_Scanes_Sorted/Train/Glaucoma_Negative/282.jpg  \n",
            "  inflating: Fundus_Train_Val_Data/Fundus_Scanes_Sorted/Train/Glaucoma_Negative/287.jpg  \n",
            "  inflating: Fundus_Train_Val_Data/Fundus_Scanes_Sorted/Train/Glaucoma_Negative/288.jpg  \n",
            "  inflating: Fundus_Train_Val_Data/Fundus_Scanes_Sorted/Train/Glaucoma_Negative/290.jpg  \n",
            "  inflating: Fundus_Train_Val_Data/Fundus_Scanes_Sorted/Train/Glaucoma_Negative/291.jpg  \n",
            "  inflating: Fundus_Train_Val_Data/Fundus_Scanes_Sorted/Train/Glaucoma_Negative/292.jpg  \n",
            "  inflating: Fundus_Train_Val_Data/Fundus_Scanes_Sorted/Train/Glaucoma_Negative/295.jpg  \n",
            "  inflating: Fundus_Train_Val_Data/Fundus_Scanes_Sorted/Train/Glaucoma_Negative/296.jpg  \n",
            "  inflating: Fundus_Train_Val_Data/Fundus_Scanes_Sorted/Train/Glaucoma_Negative/297.jpg  \n",
            "  inflating: Fundus_Train_Val_Data/Fundus_Scanes_Sorted/Train/Glaucoma_Negative/298.jpg  \n",
            "  inflating: Fundus_Train_Val_Data/Fundus_Scanes_Sorted/Train/Glaucoma_Negative/299.jpg  \n",
            "  inflating: Fundus_Train_Val_Data/Fundus_Scanes_Sorted/Train/Glaucoma_Negative/302.jpg  \n",
            "  inflating: Fundus_Train_Val_Data/Fundus_Scanes_Sorted/Train/Glaucoma_Negative/303.jpg  \n",
            "  inflating: Fundus_Train_Val_Data/Fundus_Scanes_Sorted/Train/Glaucoma_Negative/307.jpg  \n",
            "  inflating: Fundus_Train_Val_Data/Fundus_Scanes_Sorted/Train/Glaucoma_Negative/308.jpg  \n",
            "  inflating: Fundus_Train_Val_Data/Fundus_Scanes_Sorted/Train/Glaucoma_Negative/309.jpg  \n",
            "  inflating: Fundus_Train_Val_Data/Fundus_Scanes_Sorted/Train/Glaucoma_Negative/310.jpg  \n",
            "  inflating: Fundus_Train_Val_Data/Fundus_Scanes_Sorted/Train/Glaucoma_Negative/311.jpg  \n",
            "  inflating: Fundus_Train_Val_Data/Fundus_Scanes_Sorted/Train/Glaucoma_Negative/313.jpg  \n",
            "  inflating: Fundus_Train_Val_Data/Fundus_Scanes_Sorted/Train/Glaucoma_Negative/314.jpg  \n",
            "  inflating: Fundus_Train_Val_Data/Fundus_Scanes_Sorted/Train/Glaucoma_Negative/315.jpg  \n",
            "  inflating: Fundus_Train_Val_Data/Fundus_Scanes_Sorted/Train/Glaucoma_Negative/316.jpg  \n",
            "  inflating: Fundus_Train_Val_Data/Fundus_Scanes_Sorted/Train/Glaucoma_Negative/318.jpg  \n",
            "  inflating: Fundus_Train_Val_Data/Fundus_Scanes_Sorted/Train/Glaucoma_Negative/319.jpg  \n",
            "  inflating: Fundus_Train_Val_Data/Fundus_Scanes_Sorted/Train/Glaucoma_Negative/320.jpg  \n",
            "  inflating: Fundus_Train_Val_Data/Fundus_Scanes_Sorted/Train/Glaucoma_Negative/321.jpg  \n",
            "  inflating: Fundus_Train_Val_Data/Fundus_Scanes_Sorted/Train/Glaucoma_Negative/323.jpg  \n",
            "  inflating: Fundus_Train_Val_Data/Fundus_Scanes_Sorted/Train/Glaucoma_Negative/324.jpg  \n",
            "  inflating: Fundus_Train_Val_Data/Fundus_Scanes_Sorted/Train/Glaucoma_Negative/325.jpg  \n",
            "  inflating: Fundus_Train_Val_Data/Fundus_Scanes_Sorted/Train/Glaucoma_Negative/326.jpg  \n",
            "  inflating: Fundus_Train_Val_Data/Fundus_Scanes_Sorted/Train/Glaucoma_Negative/328.jpg  \n",
            "  inflating: Fundus_Train_Val_Data/Fundus_Scanes_Sorted/Train/Glaucoma_Negative/329.jpg  \n",
            "  inflating: Fundus_Train_Val_Data/Fundus_Scanes_Sorted/Train/Glaucoma_Negative/331.jpg  \n",
            "  inflating: Fundus_Train_Val_Data/Fundus_Scanes_Sorted/Train/Glaucoma_Negative/332.jpg  \n",
            "  inflating: Fundus_Train_Val_Data/Fundus_Scanes_Sorted/Train/Glaucoma_Negative/333.jpg  \n",
            "  inflating: Fundus_Train_Val_Data/Fundus_Scanes_Sorted/Train/Glaucoma_Negative/334.jpg  \n",
            "  inflating: Fundus_Train_Val_Data/Fundus_Scanes_Sorted/Train/Glaucoma_Negative/335.jpg  \n",
            "  inflating: Fundus_Train_Val_Data/Fundus_Scanes_Sorted/Train/Glaucoma_Negative/338.jpg  \n",
            "  inflating: Fundus_Train_Val_Data/Fundus_Scanes_Sorted/Train/Glaucoma_Negative/339.jpg  \n",
            "  inflating: Fundus_Train_Val_Data/Fundus_Scanes_Sorted/Train/Glaucoma_Negative/341.jpg  \n",
            "  inflating: Fundus_Train_Val_Data/Fundus_Scanes_Sorted/Train/Glaucoma_Negative/342.jpg  \n",
            "  inflating: Fundus_Train_Val_Data/Fundus_Scanes_Sorted/Train/Glaucoma_Negative/343.jpg  \n",
            "  inflating: Fundus_Train_Val_Data/Fundus_Scanes_Sorted/Train/Glaucoma_Negative/344.jpg  \n",
            "  inflating: Fundus_Train_Val_Data/Fundus_Scanes_Sorted/Train/Glaucoma_Negative/346.jpg  \n",
            "  inflating: Fundus_Train_Val_Data/Fundus_Scanes_Sorted/Train/Glaucoma_Negative/347.jpg  \n",
            "  inflating: Fundus_Train_Val_Data/Fundus_Scanes_Sorted/Train/Glaucoma_Negative/350.jpg  \n",
            "  inflating: Fundus_Train_Val_Data/Fundus_Scanes_Sorted/Train/Glaucoma_Negative/351.jpg  \n",
            "  inflating: Fundus_Train_Val_Data/Fundus_Scanes_Sorted/Train/Glaucoma_Negative/352.jpg  \n",
            "  inflating: Fundus_Train_Val_Data/Fundus_Scanes_Sorted/Train/Glaucoma_Negative/355.jpg  \n",
            "  inflating: Fundus_Train_Val_Data/Fundus_Scanes_Sorted/Train/Glaucoma_Negative/356.jpg  \n",
            "  inflating: Fundus_Train_Val_Data/Fundus_Scanes_Sorted/Train/Glaucoma_Negative/357.jpg  \n",
            "  inflating: Fundus_Train_Val_Data/Fundus_Scanes_Sorted/Train/Glaucoma_Negative/358.jpg  \n",
            "  inflating: Fundus_Train_Val_Data/Fundus_Scanes_Sorted/Train/Glaucoma_Negative/360.jpg  \n",
            "  inflating: Fundus_Train_Val_Data/Fundus_Scanes_Sorted/Train/Glaucoma_Negative/361.jpg  \n",
            "  inflating: Fundus_Train_Val_Data/Fundus_Scanes_Sorted/Train/Glaucoma_Negative/363.jpg  \n",
            "  inflating: Fundus_Train_Val_Data/Fundus_Scanes_Sorted/Train/Glaucoma_Negative/364.jpg  \n",
            "  inflating: Fundus_Train_Val_Data/Fundus_Scanes_Sorted/Train/Glaucoma_Negative/365.jpg  \n",
            "  inflating: Fundus_Train_Val_Data/Fundus_Scanes_Sorted/Train/Glaucoma_Negative/367.jpg  \n",
            "  inflating: Fundus_Train_Val_Data/Fundus_Scanes_Sorted/Train/Glaucoma_Negative/368.jpg  \n",
            "  inflating: Fundus_Train_Val_Data/Fundus_Scanes_Sorted/Train/Glaucoma_Negative/369.jpg  \n",
            "  inflating: Fundus_Train_Val_Data/Fundus_Scanes_Sorted/Train/Glaucoma_Negative/370.jpg  \n",
            "  inflating: Fundus_Train_Val_Data/Fundus_Scanes_Sorted/Train/Glaucoma_Negative/371.jpg  \n",
            "  inflating: Fundus_Train_Val_Data/Fundus_Scanes_Sorted/Train/Glaucoma_Negative/372.jpg  \n",
            "  inflating: Fundus_Train_Val_Data/Fundus_Scanes_Sorted/Train/Glaucoma_Negative/373.jpg  \n",
            "  inflating: Fundus_Train_Val_Data/Fundus_Scanes_Sorted/Train/Glaucoma_Negative/374.jpg  \n",
            "  inflating: Fundus_Train_Val_Data/Fundus_Scanes_Sorted/Train/Glaucoma_Negative/375.jpg  \n",
            "  inflating: Fundus_Train_Val_Data/Fundus_Scanes_Sorted/Train/Glaucoma_Negative/376.jpg  \n",
            "  inflating: Fundus_Train_Val_Data/Fundus_Scanes_Sorted/Train/Glaucoma_Negative/378.jpg  \n",
            "  inflating: Fundus_Train_Val_Data/Fundus_Scanes_Sorted/Train/Glaucoma_Negative/379.jpg  \n",
            "  inflating: Fundus_Train_Val_Data/Fundus_Scanes_Sorted/Train/Glaucoma_Negative/380.jpg  \n",
            "  inflating: Fundus_Train_Val_Data/Fundus_Scanes_Sorted/Train/Glaucoma_Negative/384.jpg  \n",
            "  inflating: Fundus_Train_Val_Data/Fundus_Scanes_Sorted/Train/Glaucoma_Negative/387.jpg  \n",
            "  inflating: Fundus_Train_Val_Data/Fundus_Scanes_Sorted/Train/Glaucoma_Negative/388.jpg  \n",
            "  inflating: Fundus_Train_Val_Data/Fundus_Scanes_Sorted/Train/Glaucoma_Negative/391.jpg  \n",
            "  inflating: Fundus_Train_Val_Data/Fundus_Scanes_Sorted/Train/Glaucoma_Negative/392.jpg  \n",
            "  inflating: Fundus_Train_Val_Data/Fundus_Scanes_Sorted/Train/Glaucoma_Negative/393.jpg  \n",
            "  inflating: Fundus_Train_Val_Data/Fundus_Scanes_Sorted/Train/Glaucoma_Negative/394.jpg  \n",
            "  inflating: Fundus_Train_Val_Data/Fundus_Scanes_Sorted/Train/Glaucoma_Negative/396.jpg  \n",
            "  inflating: Fundus_Train_Val_Data/Fundus_Scanes_Sorted/Train/Glaucoma_Negative/397.jpg  \n",
            "  inflating: Fundus_Train_Val_Data/Fundus_Scanes_Sorted/Train/Glaucoma_Negative/399.jpg  \n",
            "  inflating: Fundus_Train_Val_Data/Fundus_Scanes_Sorted/Train/Glaucoma_Negative/400.jpg  \n",
            "  inflating: Fundus_Train_Val_Data/Fundus_Scanes_Sorted/Train/Glaucoma_Negative/401.jpg  \n",
            "  inflating: Fundus_Train_Val_Data/Fundus_Scanes_Sorted/Train/Glaucoma_Negative/403.jpg  \n",
            "  inflating: Fundus_Train_Val_Data/Fundus_Scanes_Sorted/Train/Glaucoma_Negative/404.jpg  \n",
            "  inflating: Fundus_Train_Val_Data/Fundus_Scanes_Sorted/Train/Glaucoma_Negative/405.jpg  \n",
            "  inflating: Fundus_Train_Val_Data/Fundus_Scanes_Sorted/Train/Glaucoma_Negative/406.jpg  \n",
            "  inflating: Fundus_Train_Val_Data/Fundus_Scanes_Sorted/Train/Glaucoma_Negative/408.jpg  \n",
            "  inflating: Fundus_Train_Val_Data/Fundus_Scanes_Sorted/Train/Glaucoma_Negative/409.jpg  \n",
            "  inflating: Fundus_Train_Val_Data/Fundus_Scanes_Sorted/Train/Glaucoma_Negative/410.jpg  \n",
            "  inflating: Fundus_Train_Val_Data/Fundus_Scanes_Sorted/Train/Glaucoma_Negative/411.jpg  \n",
            "  inflating: Fundus_Train_Val_Data/Fundus_Scanes_Sorted/Train/Glaucoma_Negative/412.jpg  \n",
            "  inflating: Fundus_Train_Val_Data/Fundus_Scanes_Sorted/Train/Glaucoma_Negative/413.jpg  \n",
            "  inflating: Fundus_Train_Val_Data/Fundus_Scanes_Sorted/Train/Glaucoma_Negative/414.jpg  \n",
            "  inflating: Fundus_Train_Val_Data/Fundus_Scanes_Sorted/Train/Glaucoma_Negative/415.jpg  \n",
            "  inflating: Fundus_Train_Val_Data/Fundus_Scanes_Sorted/Train/Glaucoma_Negative/416.jpg  \n",
            "  inflating: Fundus_Train_Val_Data/Fundus_Scanes_Sorted/Train/Glaucoma_Negative/417.jpg  \n",
            "  inflating: Fundus_Train_Val_Data/Fundus_Scanes_Sorted/Train/Glaucoma_Negative/418.jpg  \n",
            "  inflating: Fundus_Train_Val_Data/Fundus_Scanes_Sorted/Train/Glaucoma_Negative/420.jpg  \n",
            "  inflating: Fundus_Train_Val_Data/Fundus_Scanes_Sorted/Train/Glaucoma_Negative/421.jpg  \n",
            "  inflating: Fundus_Train_Val_Data/Fundus_Scanes_Sorted/Train/Glaucoma_Negative/422.jpg  \n",
            "  inflating: Fundus_Train_Val_Data/Fundus_Scanes_Sorted/Train/Glaucoma_Negative/423.jpg  \n",
            "  inflating: Fundus_Train_Val_Data/Fundus_Scanes_Sorted/Train/Glaucoma_Negative/425.jpg  \n",
            "  inflating: Fundus_Train_Val_Data/Fundus_Scanes_Sorted/Train/Glaucoma_Negative/427.jpg  \n",
            "  inflating: Fundus_Train_Val_Data/Fundus_Scanes_Sorted/Train/Glaucoma_Negative/428.jpg  \n",
            "  inflating: Fundus_Train_Val_Data/Fundus_Scanes_Sorted/Train/Glaucoma_Negative/430.jpg  \n",
            "  inflating: Fundus_Train_Val_Data/Fundus_Scanes_Sorted/Train/Glaucoma_Negative/431.jpg  \n",
            "  inflating: Fundus_Train_Val_Data/Fundus_Scanes_Sorted/Train/Glaucoma_Negative/434.jpg  \n",
            "  inflating: Fundus_Train_Val_Data/Fundus_Scanes_Sorted/Train/Glaucoma_Negative/435.jpg  \n",
            "  inflating: Fundus_Train_Val_Data/Fundus_Scanes_Sorted/Train/Glaucoma_Negative/436.jpg  \n",
            "  inflating: Fundus_Train_Val_Data/Fundus_Scanes_Sorted/Train/Glaucoma_Negative/437.jpg  \n",
            "  inflating: Fundus_Train_Val_Data/Fundus_Scanes_Sorted/Train/Glaucoma_Negative/438.jpg  \n",
            "  inflating: Fundus_Train_Val_Data/Fundus_Scanes_Sorted/Train/Glaucoma_Negative/443.jpg  \n",
            "  inflating: Fundus_Train_Val_Data/Fundus_Scanes_Sorted/Train/Glaucoma_Negative/444.jpg  \n",
            "  inflating: Fundus_Train_Val_Data/Fundus_Scanes_Sorted/Train/Glaucoma_Negative/445.jpg  \n",
            "  inflating: Fundus_Train_Val_Data/Fundus_Scanes_Sorted/Train/Glaucoma_Negative/446.jpg  \n",
            "  inflating: Fundus_Train_Val_Data/Fundus_Scanes_Sorted/Train/Glaucoma_Negative/447.jpg  \n",
            "  inflating: Fundus_Train_Val_Data/Fundus_Scanes_Sorted/Train/Glaucoma_Negative/448.jpg  \n",
            "  inflating: Fundus_Train_Val_Data/Fundus_Scanes_Sorted/Train/Glaucoma_Negative/449.jpg  \n",
            "  inflating: Fundus_Train_Val_Data/Fundus_Scanes_Sorted/Train/Glaucoma_Negative/450.jpg  \n",
            "  inflating: Fundus_Train_Val_Data/Fundus_Scanes_Sorted/Train/Glaucoma_Negative/451.jpg  \n",
            "  inflating: Fundus_Train_Val_Data/Fundus_Scanes_Sorted/Train/Glaucoma_Negative/452.jpg  \n",
            "  inflating: Fundus_Train_Val_Data/Fundus_Scanes_Sorted/Train/Glaucoma_Negative/453.jpg  \n",
            "  inflating: Fundus_Train_Val_Data/Fundus_Scanes_Sorted/Train/Glaucoma_Negative/454.jpg  \n",
            "  inflating: Fundus_Train_Val_Data/Fundus_Scanes_Sorted/Train/Glaucoma_Negative/455.jpg  \n",
            "  inflating: Fundus_Train_Val_Data/Fundus_Scanes_Sorted/Train/Glaucoma_Negative/456.jpg  \n",
            "  inflating: Fundus_Train_Val_Data/Fundus_Scanes_Sorted/Train/Glaucoma_Negative/459.jpg  \n",
            "  inflating: Fundus_Train_Val_Data/Fundus_Scanes_Sorted/Train/Glaucoma_Negative/460.jpg  \n",
            "  inflating: Fundus_Train_Val_Data/Fundus_Scanes_Sorted/Train/Glaucoma_Negative/461.jpg  \n",
            "  inflating: Fundus_Train_Val_Data/Fundus_Scanes_Sorted/Train/Glaucoma_Negative/462.jpg  \n",
            "  inflating: Fundus_Train_Val_Data/Fundus_Scanes_Sorted/Train/Glaucoma_Negative/463.jpg  \n",
            "  inflating: Fundus_Train_Val_Data/Fundus_Scanes_Sorted/Train/Glaucoma_Negative/464.jpg  \n",
            "  inflating: Fundus_Train_Val_Data/Fundus_Scanes_Sorted/Train/Glaucoma_Negative/466.jpg  \n",
            "  inflating: Fundus_Train_Val_Data/Fundus_Scanes_Sorted/Train/Glaucoma_Negative/467.jpg  \n",
            "  inflating: Fundus_Train_Val_Data/Fundus_Scanes_Sorted/Train/Glaucoma_Negative/469.jpg  \n",
            "  inflating: Fundus_Train_Val_Data/Fundus_Scanes_Sorted/Train/Glaucoma_Negative/470.jpg  \n",
            "  inflating: Fundus_Train_Val_Data/Fundus_Scanes_Sorted/Train/Glaucoma_Negative/471.jpg  \n",
            "  inflating: Fundus_Train_Val_Data/Fundus_Scanes_Sorted/Train/Glaucoma_Negative/472.jpg  \n",
            "  inflating: Fundus_Train_Val_Data/Fundus_Scanes_Sorted/Train/Glaucoma_Negative/473.jpg  \n",
            "  inflating: Fundus_Train_Val_Data/Fundus_Scanes_Sorted/Train/Glaucoma_Negative/475.jpg  \n",
            "  inflating: Fundus_Train_Val_Data/Fundus_Scanes_Sorted/Train/Glaucoma_Negative/476.jpg  \n",
            "  inflating: Fundus_Train_Val_Data/Fundus_Scanes_Sorted/Train/Glaucoma_Negative/477.jpg  \n",
            "  inflating: Fundus_Train_Val_Data/Fundus_Scanes_Sorted/Train/Glaucoma_Negative/478.jpg  \n",
            "  inflating: Fundus_Train_Val_Data/Fundus_Scanes_Sorted/Train/Glaucoma_Negative/479.jpg  \n",
            "  inflating: Fundus_Train_Val_Data/Fundus_Scanes_Sorted/Train/Glaucoma_Negative/481.jpg  \n",
            "  inflating: Fundus_Train_Val_Data/Fundus_Scanes_Sorted/Train/Glaucoma_Negative/482.jpg  \n",
            "  inflating: Fundus_Train_Val_Data/Fundus_Scanes_Sorted/Train/Glaucoma_Positive/036.jpg  \n",
            "  inflating: Fundus_Train_Val_Data/Fundus_Scanes_Sorted/Train/Glaucoma_Positive/037.jpg  \n",
            "  inflating: Fundus_Train_Val_Data/Fundus_Scanes_Sorted/Train/Glaucoma_Positive/041.jpg  \n",
            "  inflating: Fundus_Train_Val_Data/Fundus_Scanes_Sorted/Train/Glaucoma_Positive/050.jpg  \n",
            "  inflating: Fundus_Train_Val_Data/Fundus_Scanes_Sorted/Train/Glaucoma_Positive/069.jpg  \n",
            "  inflating: Fundus_Train_Val_Data/Fundus_Scanes_Sorted/Train/Glaucoma_Positive/072.jpg  \n",
            "  inflating: Fundus_Train_Val_Data/Fundus_Scanes_Sorted/Train/Glaucoma_Positive/076.jpg  \n",
            "  inflating: Fundus_Train_Val_Data/Fundus_Scanes_Sorted/Train/Glaucoma_Positive/086.jpg  \n",
            "  inflating: Fundus_Train_Val_Data/Fundus_Scanes_Sorted/Train/Glaucoma_Positive/087.jpg  \n",
            "  inflating: Fundus_Train_Val_Data/Fundus_Scanes_Sorted/Train/Glaucoma_Positive/093.jpg  \n",
            "  inflating: Fundus_Train_Val_Data/Fundus_Scanes_Sorted/Train/Glaucoma_Positive/094.jpg  \n",
            "  inflating: Fundus_Train_Val_Data/Fundus_Scanes_Sorted/Train/Glaucoma_Positive/097.jpg  \n",
            "  inflating: Fundus_Train_Val_Data/Fundus_Scanes_Sorted/Train/Glaucoma_Positive/110.jpg  \n",
            "  inflating: Fundus_Train_Val_Data/Fundus_Scanes_Sorted/Train/Glaucoma_Positive/116.jpg  \n",
            "  inflating: Fundus_Train_Val_Data/Fundus_Scanes_Sorted/Train/Glaucoma_Positive/138.jpg  \n",
            "  inflating: Fundus_Train_Val_Data/Fundus_Scanes_Sorted/Train/Glaucoma_Positive/158.jpg  \n",
            "  inflating: Fundus_Train_Val_Data/Fundus_Scanes_Sorted/Train/Glaucoma_Positive/159.jpg  \n",
            "  inflating: Fundus_Train_Val_Data/Fundus_Scanes_Sorted/Train/Glaucoma_Positive/160.jpg  \n",
            "  inflating: Fundus_Train_Val_Data/Fundus_Scanes_Sorted/Train/Glaucoma_Positive/165.jpg  \n",
            "  inflating: Fundus_Train_Val_Data/Fundus_Scanes_Sorted/Train/Glaucoma_Positive/168.jpg  \n",
            "  inflating: Fundus_Train_Val_Data/Fundus_Scanes_Sorted/Train/Glaucoma_Positive/171.jpg  \n",
            "  inflating: Fundus_Train_Val_Data/Fundus_Scanes_Sorted/Train/Glaucoma_Positive/180.jpg  \n",
            "  inflating: Fundus_Train_Val_Data/Fundus_Scanes_Sorted/Train/Glaucoma_Positive/181.jpg  \n",
            "  inflating: Fundus_Train_Val_Data/Fundus_Scanes_Sorted/Train/Glaucoma_Positive/182.jpg  \n",
            "  inflating: Fundus_Train_Val_Data/Fundus_Scanes_Sorted/Train/Glaucoma_Positive/208.jpg  \n",
            "  inflating: Fundus_Train_Val_Data/Fundus_Scanes_Sorted/Train/Glaucoma_Positive/213.jpg  \n",
            "  inflating: Fundus_Train_Val_Data/Fundus_Scanes_Sorted/Train/Glaucoma_Positive/225.jpg  \n",
            "  inflating: Fundus_Train_Val_Data/Fundus_Scanes_Sorted/Train/Glaucoma_Positive/228.jpg  \n",
            "  inflating: Fundus_Train_Val_Data/Fundus_Scanes_Sorted/Train/Glaucoma_Positive/229.jpg  \n",
            "  inflating: Fundus_Train_Val_Data/Fundus_Scanes_Sorted/Train/Glaucoma_Positive/233.jpg  \n",
            "  inflating: Fundus_Train_Val_Data/Fundus_Scanes_Sorted/Train/Glaucoma_Positive/240.jpg  \n",
            "  inflating: Fundus_Train_Val_Data/Fundus_Scanes_Sorted/Train/Glaucoma_Positive/241.jpg  \n",
            "  inflating: Fundus_Train_Val_Data/Fundus_Scanes_Sorted/Train/Glaucoma_Positive/245.jpg  \n",
            "  inflating: Fundus_Train_Val_Data/Fundus_Scanes_Sorted/Train/Glaucoma_Positive/246.jpg  \n",
            "  inflating: Fundus_Train_Val_Data/Fundus_Scanes_Sorted/Train/Glaucoma_Positive/247.jpg  \n",
            "  inflating: Fundus_Train_Val_Data/Fundus_Scanes_Sorted/Train/Glaucoma_Positive/269.jpg  \n",
            "  inflating: Fundus_Train_Val_Data/Fundus_Scanes_Sorted/Train/Glaucoma_Positive/270.jpg  \n",
            "  inflating: Fundus_Train_Val_Data/Fundus_Scanes_Sorted/Train/Glaucoma_Positive/273.jpg  \n",
            "  inflating: Fundus_Train_Val_Data/Fundus_Scanes_Sorted/Train/Glaucoma_Positive/277.jpg  \n",
            "  inflating: Fundus_Train_Val_Data/Fundus_Scanes_Sorted/Train/Glaucoma_Positive/278.jpg  \n",
            "  inflating: Fundus_Train_Val_Data/Fundus_Scanes_Sorted/Train/Glaucoma_Positive/283.jpg  \n",
            "  inflating: Fundus_Train_Val_Data/Fundus_Scanes_Sorted/Train/Glaucoma_Positive/284.jpg  \n",
            "  inflating: Fundus_Train_Val_Data/Fundus_Scanes_Sorted/Train/Glaucoma_Positive/285.jpg  \n",
            "  inflating: Fundus_Train_Val_Data/Fundus_Scanes_Sorted/Train/Glaucoma_Positive/286.jpg  \n",
            "  inflating: Fundus_Train_Val_Data/Fundus_Scanes_Sorted/Train/Glaucoma_Positive/289.jpg  \n",
            "  inflating: Fundus_Train_Val_Data/Fundus_Scanes_Sorted/Train/Glaucoma_Positive/293.jpg  \n",
            "  inflating: Fundus_Train_Val_Data/Fundus_Scanes_Sorted/Train/Glaucoma_Positive/294.jpg  \n",
            "  inflating: Fundus_Train_Val_Data/Fundus_Scanes_Sorted/Train/Glaucoma_Positive/300.jpg  \n",
            "  inflating: Fundus_Train_Val_Data/Fundus_Scanes_Sorted/Train/Glaucoma_Positive/301.jpg  \n",
            "  inflating: Fundus_Train_Val_Data/Fundus_Scanes_Sorted/Train/Glaucoma_Positive/304.jpg  \n",
            "  inflating: Fundus_Train_Val_Data/Fundus_Scanes_Sorted/Train/Glaucoma_Positive/305.jpg  \n",
            "  inflating: Fundus_Train_Val_Data/Fundus_Scanes_Sorted/Train/Glaucoma_Positive/306.jpg  \n",
            "  inflating: Fundus_Train_Val_Data/Fundus_Scanes_Sorted/Train/Glaucoma_Positive/312.jpg  \n",
            "  inflating: Fundus_Train_Val_Data/Fundus_Scanes_Sorted/Train/Glaucoma_Positive/317.jpg  \n",
            "  inflating: Fundus_Train_Val_Data/Fundus_Scanes_Sorted/Train/Glaucoma_Positive/322.jpg  \n",
            "  inflating: Fundus_Train_Val_Data/Fundus_Scanes_Sorted/Train/Glaucoma_Positive/327.jpg  \n",
            "  inflating: Fundus_Train_Val_Data/Fundus_Scanes_Sorted/Train/Glaucoma_Positive/330.jpg  \n",
            "  inflating: Fundus_Train_Val_Data/Fundus_Scanes_Sorted/Train/Glaucoma_Positive/336.jpg  \n",
            "  inflating: Fundus_Train_Val_Data/Fundus_Scanes_Sorted/Train/Glaucoma_Positive/337.jpg  \n",
            "  inflating: Fundus_Train_Val_Data/Fundus_Scanes_Sorted/Train/Glaucoma_Positive/340.jpg  \n",
            "  inflating: Fundus_Train_Val_Data/Fundus_Scanes_Sorted/Train/Glaucoma_Positive/345.jpg  \n",
            "  inflating: Fundus_Train_Val_Data/Fundus_Scanes_Sorted/Train/Glaucoma_Positive/348.jpg  \n",
            "  inflating: Fundus_Train_Val_Data/Fundus_Scanes_Sorted/Train/Glaucoma_Positive/349.jpg  \n",
            "  inflating: Fundus_Train_Val_Data/Fundus_Scanes_Sorted/Train/Glaucoma_Positive/353.jpg  \n",
            "  inflating: Fundus_Train_Val_Data/Fundus_Scanes_Sorted/Train/Glaucoma_Positive/354.jpg  \n",
            "  inflating: Fundus_Train_Val_Data/Fundus_Scanes_Sorted/Train/Glaucoma_Positive/359.jpg  \n",
            "  inflating: Fundus_Train_Val_Data/Fundus_Scanes_Sorted/Train/Glaucoma_Positive/362.jpg  \n",
            "  inflating: Fundus_Train_Val_Data/Fundus_Scanes_Sorted/Train/Glaucoma_Positive/366.jpg  \n",
            "  inflating: Fundus_Train_Val_Data/Fundus_Scanes_Sorted/Train/Glaucoma_Positive/377.jpg  \n",
            "  inflating: Fundus_Train_Val_Data/Fundus_Scanes_Sorted/Train/Glaucoma_Positive/381.jpg  \n",
            "  inflating: Fundus_Train_Val_Data/Fundus_Scanes_Sorted/Train/Glaucoma_Positive/382.jpg  \n",
            "  inflating: Fundus_Train_Val_Data/Fundus_Scanes_Sorted/Train/Glaucoma_Positive/383.jpg  \n",
            "  inflating: Fundus_Train_Val_Data/Fundus_Scanes_Sorted/Train/Glaucoma_Positive/385.jpg  \n",
            "  inflating: Fundus_Train_Val_Data/Fundus_Scanes_Sorted/Train/Glaucoma_Positive/386.jpg  \n",
            "  inflating: Fundus_Train_Val_Data/Fundus_Scanes_Sorted/Train/Glaucoma_Positive/389.jpg  \n",
            "  inflating: Fundus_Train_Val_Data/Fundus_Scanes_Sorted/Train/Glaucoma_Positive/390.jpg  \n",
            "  inflating: Fundus_Train_Val_Data/Fundus_Scanes_Sorted/Train/Glaucoma_Positive/395.jpg  \n",
            "  inflating: Fundus_Train_Val_Data/Fundus_Scanes_Sorted/Train/Glaucoma_Positive/398.jpg  \n",
            "  inflating: Fundus_Train_Val_Data/Fundus_Scanes_Sorted/Train/Glaucoma_Positive/402.jpg  \n",
            "  inflating: Fundus_Train_Val_Data/Fundus_Scanes_Sorted/Train/Glaucoma_Positive/407.jpg  \n",
            "  inflating: Fundus_Train_Val_Data/Fundus_Scanes_Sorted/Train/Glaucoma_Positive/419.jpg  \n",
            "  inflating: Fundus_Train_Val_Data/Fundus_Scanes_Sorted/Train/Glaucoma_Positive/424.jpg  \n",
            "  inflating: Fundus_Train_Val_Data/Fundus_Scanes_Sorted/Train/Glaucoma_Positive/426.jpg  \n",
            "  inflating: Fundus_Train_Val_Data/Fundus_Scanes_Sorted/Train/Glaucoma_Positive/429.jpg  \n",
            "  inflating: Fundus_Train_Val_Data/Fundus_Scanes_Sorted/Train/Glaucoma_Positive/432.jpg  \n",
            "  inflating: Fundus_Train_Val_Data/Fundus_Scanes_Sorted/Train/Glaucoma_Positive/433.jpg  \n",
            "  inflating: Fundus_Train_Val_Data/Fundus_Scanes_Sorted/Train/Glaucoma_Positive/439.jpg  \n",
            "  inflating: Fundus_Train_Val_Data/Fundus_Scanes_Sorted/Train/Glaucoma_Positive/440.jpg  \n",
            "  inflating: Fundus_Train_Val_Data/Fundus_Scanes_Sorted/Train/Glaucoma_Positive/441.jpg  \n",
            "  inflating: Fundus_Train_Val_Data/Fundus_Scanes_Sorted/Train/Glaucoma_Positive/442.jpg  \n",
            "  inflating: Fundus_Train_Val_Data/Fundus_Scanes_Sorted/Train/Glaucoma_Positive/457.jpg  \n",
            "  inflating: Fundus_Train_Val_Data/Fundus_Scanes_Sorted/Train/Glaucoma_Positive/458.jpg  \n",
            "  inflating: Fundus_Train_Val_Data/Fundus_Scanes_Sorted/Train/Glaucoma_Positive/465.jpg  \n",
            "  inflating: Fundus_Train_Val_Data/Fundus_Scanes_Sorted/Train/Glaucoma_Positive/468.jpg  \n",
            "  inflating: Fundus_Train_Val_Data/Fundus_Scanes_Sorted/Train/Glaucoma_Positive/474.jpg  \n",
            "  inflating: Fundus_Train_Val_Data/Fundus_Scanes_Sorted/Train/Glaucoma_Positive/480.jpg  \n",
            "  inflating: Fundus_Train_Val_Data/Fundus_Scanes_Sorted/Train/Glaucoma_Positive/486.jpg  \n",
            "  inflating: Fundus_Train_Val_Data/Fundus_Scanes_Sorted/Train/Glaucoma_Positive/490.jpg  \n",
            "  inflating: Fundus_Train_Val_Data/Fundus_Scanes_Sorted/Train/Glaucoma_Positive/496.jpg  \n",
            "  inflating: Fundus_Train_Val_Data/Fundus_Scanes_Sorted/Train/Glaucoma_Positive/505.jpg  \n",
            "  inflating: Fundus_Train_Val_Data/Fundus_Scanes_Sorted/Train/Glaucoma_Positive/506.jpg  \n",
            "  inflating: Fundus_Train_Val_Data/Fundus_Scanes_Sorted/Train/Glaucoma_Positive/507.jpg  \n",
            "  inflating: Fundus_Train_Val_Data/Fundus_Scanes_Sorted/Train/Glaucoma_Positive/508.jpg  \n",
            "  inflating: Fundus_Train_Val_Data/Fundus_Scanes_Sorted/Train/Glaucoma_Positive/511.jpg  \n",
            "  inflating: Fundus_Train_Val_Data/Fundus_Scanes_Sorted/Train/Glaucoma_Positive/512.jpg  \n",
            "  inflating: Fundus_Train_Val_Data/Fundus_Scanes_Sorted/Train/Glaucoma_Positive/514.jpg  \n",
            "  inflating: Fundus_Train_Val_Data/Fundus_Scanes_Sorted/Train/Glaucoma_Positive/515.jpg  \n",
            "  inflating: Fundus_Train_Val_Data/Fundus_Scanes_Sorted/Train/Glaucoma_Positive/516.jpg  \n",
            "  inflating: Fundus_Train_Val_Data/Fundus_Scanes_Sorted/Train/Glaucoma_Positive/519.jpg  \n",
            "  inflating: Fundus_Train_Val_Data/Fundus_Scanes_Sorted/Train/Glaucoma_Positive/523.jpg  \n",
            "  inflating: Fundus_Train_Val_Data/Fundus_Scanes_Sorted/Train/Glaucoma_Positive/524.jpg  \n",
            "  inflating: Fundus_Train_Val_Data/Fundus_Scanes_Sorted/Train/Glaucoma_Positive/528.jpg  \n",
            "  inflating: Fundus_Train_Val_Data/Fundus_Scanes_Sorted/Train/Glaucoma_Positive/532.jpg  \n",
            "  inflating: Fundus_Train_Val_Data/Fundus_Scanes_Sorted/Train/Glaucoma_Positive/533.jpg  \n",
            "  inflating: Fundus_Train_Val_Data/Fundus_Scanes_Sorted/Train/Glaucoma_Positive/545.jpg  \n",
            "  inflating: Fundus_Train_Val_Data/Fundus_Scanes_Sorted/Train/Glaucoma_Positive/549.jpg  \n",
            "  inflating: Fundus_Train_Val_Data/Fundus_Scanes_Sorted/Train/Glaucoma_Positive/550.jpg  \n",
            "  inflating: Fundus_Train_Val_Data/Fundus_Scanes_Sorted/Train/Glaucoma_Positive/556.jpg  \n",
            "  inflating: Fundus_Train_Val_Data/Fundus_Scanes_Sorted/Train/Glaucoma_Positive/557.jpg  \n",
            "  inflating: Fundus_Train_Val_Data/Fundus_Scanes_Sorted/Train/Glaucoma_Positive/558.jpg  \n",
            "  inflating: Fundus_Train_Val_Data/Fundus_Scanes_Sorted/Train/Glaucoma_Positive/560.jpg  \n",
            "  inflating: Fundus_Train_Val_Data/Fundus_Scanes_Sorted/Train/Glaucoma_Positive/571.jpg  \n",
            "  inflating: Fundus_Train_Val_Data/Fundus_Scanes_Sorted/Train/Glaucoma_Positive/572.jpg  \n",
            "  inflating: Fundus_Train_Val_Data/Fundus_Scanes_Sorted/Train/Glaucoma_Positive/578.jpg  \n",
            "  inflating: Fundus_Train_Val_Data/Fundus_Scanes_Sorted/Train/Glaucoma_Positive/580.jpg  \n",
            "  inflating: Fundus_Train_Val_Data/Fundus_Scanes_Sorted/Train/Glaucoma_Positive/582.jpg  \n",
            "  inflating: Fundus_Train_Val_Data/Fundus_Scanes_Sorted/Train/Glaucoma_Positive/584.jpg  \n",
            "  inflating: Fundus_Train_Val_Data/Fundus_Scanes_Sorted/Train/Glaucoma_Positive/586.jpg  \n",
            "  inflating: Fundus_Train_Val_Data/Fundus_Scanes_Sorted/Train/Glaucoma_Positive/588.jpg  \n",
            "  inflating: Fundus_Train_Val_Data/Fundus_Scanes_Sorted/Train/Glaucoma_Positive/589.jpg  \n",
            "  inflating: Fundus_Train_Val_Data/Fundus_Scanes_Sorted/Train/Glaucoma_Positive/591.jpg  \n",
            "  inflating: Fundus_Train_Val_Data/Fundus_Scanes_Sorted/Train/Glaucoma_Positive/592.jpg  \n",
            "  inflating: Fundus_Train_Val_Data/Fundus_Scanes_Sorted/Train/Glaucoma_Positive/593.jpg  \n",
            "  inflating: Fundus_Train_Val_Data/Fundus_Scanes_Sorted/Train/Glaucoma_Positive/595.jpg  \n",
            "  inflating: Fundus_Train_Val_Data/Fundus_Scanes_Sorted/Validation/Glaucoma_Negative/483.jpg  \n",
            "  inflating: Fundus_Train_Val_Data/Fundus_Scanes_Sorted/Validation/Glaucoma_Negative/484.jpg  \n",
            "  inflating: Fundus_Train_Val_Data/Fundus_Scanes_Sorted/Validation/Glaucoma_Negative/485.jpg  \n",
            "  inflating: Fundus_Train_Val_Data/Fundus_Scanes_Sorted/Validation/Glaucoma_Negative/487.jpg  \n",
            "  inflating: Fundus_Train_Val_Data/Fundus_Scanes_Sorted/Validation/Glaucoma_Negative/488.jpg  \n",
            "  inflating: Fundus_Train_Val_Data/Fundus_Scanes_Sorted/Validation/Glaucoma_Negative/489.jpg  \n",
            "  inflating: Fundus_Train_Val_Data/Fundus_Scanes_Sorted/Validation/Glaucoma_Negative/491.jpg  \n",
            "  inflating: Fundus_Train_Val_Data/Fundus_Scanes_Sorted/Validation/Glaucoma_Negative/492.jpg  \n",
            "  inflating: Fundus_Train_Val_Data/Fundus_Scanes_Sorted/Validation/Glaucoma_Negative/493.jpg  \n",
            "  inflating: Fundus_Train_Val_Data/Fundus_Scanes_Sorted/Validation/Glaucoma_Negative/494.jpg  \n",
            "  inflating: Fundus_Train_Val_Data/Fundus_Scanes_Sorted/Validation/Glaucoma_Negative/495.jpg  \n",
            "  inflating: Fundus_Train_Val_Data/Fundus_Scanes_Sorted/Validation/Glaucoma_Negative/497.jpg  \n",
            "  inflating: Fundus_Train_Val_Data/Fundus_Scanes_Sorted/Validation/Glaucoma_Negative/498.jpg  \n",
            "  inflating: Fundus_Train_Val_Data/Fundus_Scanes_Sorted/Validation/Glaucoma_Negative/499.jpg  \n",
            "  inflating: Fundus_Train_Val_Data/Fundus_Scanes_Sorted/Validation/Glaucoma_Negative/500.jpg  \n",
            "  inflating: Fundus_Train_Val_Data/Fundus_Scanes_Sorted/Validation/Glaucoma_Negative/501.jpg  \n",
            "  inflating: Fundus_Train_Val_Data/Fundus_Scanes_Sorted/Validation/Glaucoma_Negative/502.jpg  \n",
            "  inflating: Fundus_Train_Val_Data/Fundus_Scanes_Sorted/Validation/Glaucoma_Negative/503.jpg  \n",
            "  inflating: Fundus_Train_Val_Data/Fundus_Scanes_Sorted/Validation/Glaucoma_Negative/504.jpg  \n",
            "  inflating: Fundus_Train_Val_Data/Fundus_Scanes_Sorted/Validation/Glaucoma_Negative/509.jpg  \n",
            "  inflating: Fundus_Train_Val_Data/Fundus_Scanes_Sorted/Validation/Glaucoma_Negative/510.jpg  \n",
            "  inflating: Fundus_Train_Val_Data/Fundus_Scanes_Sorted/Validation/Glaucoma_Negative/513.jpg  \n",
            "  inflating: Fundus_Train_Val_Data/Fundus_Scanes_Sorted/Validation/Glaucoma_Negative/517.jpg  \n",
            "  inflating: Fundus_Train_Val_Data/Fundus_Scanes_Sorted/Validation/Glaucoma_Negative/518.jpg  \n",
            "  inflating: Fundus_Train_Val_Data/Fundus_Scanes_Sorted/Validation/Glaucoma_Negative/520.jpg  \n",
            "  inflating: Fundus_Train_Val_Data/Fundus_Scanes_Sorted/Validation/Glaucoma_Negative/521.jpg  \n",
            "  inflating: Fundus_Train_Val_Data/Fundus_Scanes_Sorted/Validation/Glaucoma_Negative/522.jpg  \n",
            "  inflating: Fundus_Train_Val_Data/Fundus_Scanes_Sorted/Validation/Glaucoma_Negative/525.jpg  \n",
            "  inflating: Fundus_Train_Val_Data/Fundus_Scanes_Sorted/Validation/Glaucoma_Negative/526.jpg  \n",
            "  inflating: Fundus_Train_Val_Data/Fundus_Scanes_Sorted/Validation/Glaucoma_Negative/527.jpg  \n",
            "  inflating: Fundus_Train_Val_Data/Fundus_Scanes_Sorted/Validation/Glaucoma_Negative/529.jpg  \n",
            "  inflating: Fundus_Train_Val_Data/Fundus_Scanes_Sorted/Validation/Glaucoma_Negative/530.jpg  \n",
            "  inflating: Fundus_Train_Val_Data/Fundus_Scanes_Sorted/Validation/Glaucoma_Negative/531.jpg  \n",
            "  inflating: Fundus_Train_Val_Data/Fundus_Scanes_Sorted/Validation/Glaucoma_Negative/534.jpg  \n",
            "  inflating: Fundus_Train_Val_Data/Fundus_Scanes_Sorted/Validation/Glaucoma_Negative/535.jpg  \n",
            "  inflating: Fundus_Train_Val_Data/Fundus_Scanes_Sorted/Validation/Glaucoma_Negative/536.jpg  \n",
            "  inflating: Fundus_Train_Val_Data/Fundus_Scanes_Sorted/Validation/Glaucoma_Negative/537.jpg  \n",
            "  inflating: Fundus_Train_Val_Data/Fundus_Scanes_Sorted/Validation/Glaucoma_Negative/538.jpg  \n",
            "  inflating: Fundus_Train_Val_Data/Fundus_Scanes_Sorted/Validation/Glaucoma_Negative/539.jpg  \n",
            "  inflating: Fundus_Train_Val_Data/Fundus_Scanes_Sorted/Validation/Glaucoma_Negative/540.jpg  \n",
            "  inflating: Fundus_Train_Val_Data/Fundus_Scanes_Sorted/Validation/Glaucoma_Negative/541.jpg  \n",
            "  inflating: Fundus_Train_Val_Data/Fundus_Scanes_Sorted/Validation/Glaucoma_Negative/542.jpg  \n",
            "  inflating: Fundus_Train_Val_Data/Fundus_Scanes_Sorted/Validation/Glaucoma_Negative/543.jpg  \n",
            "  inflating: Fundus_Train_Val_Data/Fundus_Scanes_Sorted/Validation/Glaucoma_Negative/544.jpg  \n",
            "  inflating: Fundus_Train_Val_Data/Fundus_Scanes_Sorted/Validation/Glaucoma_Negative/546.jpg  \n",
            "  inflating: Fundus_Train_Val_Data/Fundus_Scanes_Sorted/Validation/Glaucoma_Negative/547.jpg  \n",
            "  inflating: Fundus_Train_Val_Data/Fundus_Scanes_Sorted/Validation/Glaucoma_Negative/548.jpg  \n",
            "  inflating: Fundus_Train_Val_Data/Fundus_Scanes_Sorted/Validation/Glaucoma_Negative/551.jpg  \n",
            "  inflating: Fundus_Train_Val_Data/Fundus_Scanes_Sorted/Validation/Glaucoma_Negative/552.jpg  \n",
            "  inflating: Fundus_Train_Val_Data/Fundus_Scanes_Sorted/Validation/Glaucoma_Negative/553.jpg  \n",
            "  inflating: Fundus_Train_Val_Data/Fundus_Scanes_Sorted/Validation/Glaucoma_Negative/554.jpg  \n",
            "  inflating: Fundus_Train_Val_Data/Fundus_Scanes_Sorted/Validation/Glaucoma_Negative/555.jpg  \n",
            "  inflating: Fundus_Train_Val_Data/Fundus_Scanes_Sorted/Validation/Glaucoma_Negative/559.jpg  \n",
            "  inflating: Fundus_Train_Val_Data/Fundus_Scanes_Sorted/Validation/Glaucoma_Negative/561.jpg  \n",
            "  inflating: Fundus_Train_Val_Data/Fundus_Scanes_Sorted/Validation/Glaucoma_Negative/562.jpg  \n",
            "  inflating: Fundus_Train_Val_Data/Fundus_Scanes_Sorted/Validation/Glaucoma_Negative/563.jpg  \n",
            "  inflating: Fundus_Train_Val_Data/Fundus_Scanes_Sorted/Validation/Glaucoma_Negative/564.jpg  \n",
            "  inflating: Fundus_Train_Val_Data/Fundus_Scanes_Sorted/Validation/Glaucoma_Negative/565.jpg  \n",
            "  inflating: Fundus_Train_Val_Data/Fundus_Scanes_Sorted/Validation/Glaucoma_Negative/566.jpg  \n",
            "  inflating: Fundus_Train_Val_Data/Fundus_Scanes_Sorted/Validation/Glaucoma_Negative/567.jpg  \n",
            "  inflating: Fundus_Train_Val_Data/Fundus_Scanes_Sorted/Validation/Glaucoma_Negative/568.jpg  \n",
            "  inflating: Fundus_Train_Val_Data/Fundus_Scanes_Sorted/Validation/Glaucoma_Negative/569.jpg  \n",
            "  inflating: Fundus_Train_Val_Data/Fundus_Scanes_Sorted/Validation/Glaucoma_Negative/570.jpg  \n",
            "  inflating: Fundus_Train_Val_Data/Fundus_Scanes_Sorted/Validation/Glaucoma_Negative/573.jpg  \n",
            "  inflating: Fundus_Train_Val_Data/Fundus_Scanes_Sorted/Validation/Glaucoma_Negative/574.jpg  \n",
            "  inflating: Fundus_Train_Val_Data/Fundus_Scanes_Sorted/Validation/Glaucoma_Negative/575.jpg  \n",
            "  inflating: Fundus_Train_Val_Data/Fundus_Scanes_Sorted/Validation/Glaucoma_Negative/576.jpg  \n",
            "  inflating: Fundus_Train_Val_Data/Fundus_Scanes_Sorted/Validation/Glaucoma_Negative/577.jpg  \n",
            "  inflating: Fundus_Train_Val_Data/Fundus_Scanes_Sorted/Validation/Glaucoma_Negative/579.jpg  \n",
            "  inflating: Fundus_Train_Val_Data/Fundus_Scanes_Sorted/Validation/Glaucoma_Negative/581.jpg  \n",
            "  inflating: Fundus_Train_Val_Data/Fundus_Scanes_Sorted/Validation/Glaucoma_Negative/583.jpg  \n",
            "  inflating: Fundus_Train_Val_Data/Fundus_Scanes_Sorted/Validation/Glaucoma_Negative/585.jpg  \n",
            "  inflating: Fundus_Train_Val_Data/Fundus_Scanes_Sorted/Validation/Glaucoma_Negative/587.jpg  \n",
            "  inflating: Fundus_Train_Val_Data/Fundus_Scanes_Sorted/Validation/Glaucoma_Negative/590.jpg  \n",
            "  inflating: Fundus_Train_Val_Data/Fundus_Scanes_Sorted/Validation/Glaucoma_Negative/594.jpg  \n",
            "  inflating: Fundus_Train_Val_Data/Fundus_Scanes_Sorted/Validation/Glaucoma_Negative/596.jpg  \n",
            "  inflating: Fundus_Train_Val_Data/Fundus_Scanes_Sorted/Validation/Glaucoma_Negative/597.jpg  \n",
            "  inflating: Fundus_Train_Val_Data/Fundus_Scanes_Sorted/Validation/Glaucoma_Negative/599.jpg  \n",
            "  inflating: Fundus_Train_Val_Data/Fundus_Scanes_Sorted/Validation/Glaucoma_Negative/602.jpg  \n",
            "  inflating: Fundus_Train_Val_Data/Fundus_Scanes_Sorted/Validation/Glaucoma_Negative/603.jpg  \n",
            "  inflating: Fundus_Train_Val_Data/Fundus_Scanes_Sorted/Validation/Glaucoma_Negative/606.jpg  \n",
            "  inflating: Fundus_Train_Val_Data/Fundus_Scanes_Sorted/Validation/Glaucoma_Negative/607.jpg  \n",
            "  inflating: Fundus_Train_Val_Data/Fundus_Scanes_Sorted/Validation/Glaucoma_Negative/610.jpg  \n",
            "  inflating: Fundus_Train_Val_Data/Fundus_Scanes_Sorted/Validation/Glaucoma_Negative/611.jpg  \n",
            "  inflating: Fundus_Train_Val_Data/Fundus_Scanes_Sorted/Validation/Glaucoma_Negative/614.jpg  \n",
            "  inflating: Fundus_Train_Val_Data/Fundus_Scanes_Sorted/Validation/Glaucoma_Negative/616.jpg  \n",
            "  inflating: Fundus_Train_Val_Data/Fundus_Scanes_Sorted/Validation/Glaucoma_Negative/620.jpg  \n",
            "  inflating: Fundus_Train_Val_Data/Fundus_Scanes_Sorted/Validation/Glaucoma_Negative/625.jpg  \n",
            "  inflating: Fundus_Train_Val_Data/Fundus_Scanes_Sorted/Validation/Glaucoma_Negative/629.jpg  \n",
            "  inflating: Fundus_Train_Val_Data/Fundus_Scanes_Sorted/Validation/Glaucoma_Negative/633.jpg  \n",
            "  inflating: Fundus_Train_Val_Data/Fundus_Scanes_Sorted/Validation/Glaucoma_Negative/635.jpg  \n",
            "  inflating: Fundus_Train_Val_Data/Fundus_Scanes_Sorted/Validation/Glaucoma_Negative/637.jpg  \n",
            "  inflating: Fundus_Train_Val_Data/Fundus_Scanes_Sorted/Validation/Glaucoma_Negative/639.jpg  \n",
            "  inflating: Fundus_Train_Val_Data/Fundus_Scanes_Sorted/Validation/Glaucoma_Negative/642.jpg  \n",
            "  inflating: Fundus_Train_Val_Data/Fundus_Scanes_Sorted/Validation/Glaucoma_Negative/643.jpg  \n",
            "  inflating: Fundus_Train_Val_Data/Fundus_Scanes_Sorted/Validation/Glaucoma_Negative/649.jpg  \n",
            "  inflating: Fundus_Train_Val_Data/Fundus_Scanes_Sorted/Validation/Glaucoma_Positive/598.jpg  \n",
            "  inflating: Fundus_Train_Val_Data/Fundus_Scanes_Sorted/Validation/Glaucoma_Positive/600.jpg  \n",
            "  inflating: Fundus_Train_Val_Data/Fundus_Scanes_Sorted/Validation/Glaucoma_Positive/601.jpg  \n",
            "  inflating: Fundus_Train_Val_Data/Fundus_Scanes_Sorted/Validation/Glaucoma_Positive/604.jpg  \n",
            "  inflating: Fundus_Train_Val_Data/Fundus_Scanes_Sorted/Validation/Glaucoma_Positive/605.jpg  \n",
            "  inflating: Fundus_Train_Val_Data/Fundus_Scanes_Sorted/Validation/Glaucoma_Positive/608.jpg  \n",
            "  inflating: Fundus_Train_Val_Data/Fundus_Scanes_Sorted/Validation/Glaucoma_Positive/609.jpg  \n",
            "  inflating: Fundus_Train_Val_Data/Fundus_Scanes_Sorted/Validation/Glaucoma_Positive/612.jpg  \n",
            "  inflating: Fundus_Train_Val_Data/Fundus_Scanes_Sorted/Validation/Glaucoma_Positive/613.jpg  \n",
            "  inflating: Fundus_Train_Val_Data/Fundus_Scanes_Sorted/Validation/Glaucoma_Positive/615.jpg  \n",
            "  inflating: Fundus_Train_Val_Data/Fundus_Scanes_Sorted/Validation/Glaucoma_Positive/617.jpg  \n",
            "  inflating: Fundus_Train_Val_Data/Fundus_Scanes_Sorted/Validation/Glaucoma_Positive/618.jpg  \n",
            "  inflating: Fundus_Train_Val_Data/Fundus_Scanes_Sorted/Validation/Glaucoma_Positive/619.jpg  \n",
            "  inflating: Fundus_Train_Val_Data/Fundus_Scanes_Sorted/Validation/Glaucoma_Positive/621.jpg  \n",
            "  inflating: Fundus_Train_Val_Data/Fundus_Scanes_Sorted/Validation/Glaucoma_Positive/622.jpg  \n",
            "  inflating: Fundus_Train_Val_Data/Fundus_Scanes_Sorted/Validation/Glaucoma_Positive/623.jpg  \n",
            "  inflating: Fundus_Train_Val_Data/Fundus_Scanes_Sorted/Validation/Glaucoma_Positive/624.jpg  \n",
            "  inflating: Fundus_Train_Val_Data/Fundus_Scanes_Sorted/Validation/Glaucoma_Positive/626.jpg  \n",
            "  inflating: Fundus_Train_Val_Data/Fundus_Scanes_Sorted/Validation/Glaucoma_Positive/627.jpg  \n",
            "  inflating: Fundus_Train_Val_Data/Fundus_Scanes_Sorted/Validation/Glaucoma_Positive/628.jpg  \n",
            "  inflating: Fundus_Train_Val_Data/Fundus_Scanes_Sorted/Validation/Glaucoma_Positive/630.jpg  \n",
            "  inflating: Fundus_Train_Val_Data/Fundus_Scanes_Sorted/Validation/Glaucoma_Positive/631.jpg  \n",
            "  inflating: Fundus_Train_Val_Data/Fundus_Scanes_Sorted/Validation/Glaucoma_Positive/632.jpg  \n",
            "  inflating: Fundus_Train_Val_Data/Fundus_Scanes_Sorted/Validation/Glaucoma_Positive/634.jpg  \n",
            "  inflating: Fundus_Train_Val_Data/Fundus_Scanes_Sorted/Validation/Glaucoma_Positive/636.jpg  \n",
            "  inflating: Fundus_Train_Val_Data/Fundus_Scanes_Sorted/Validation/Glaucoma_Positive/638.jpg  \n",
            "  inflating: Fundus_Train_Val_Data/Fundus_Scanes_Sorted/Validation/Glaucoma_Positive/640.jpg  \n",
            "  inflating: Fundus_Train_Val_Data/Fundus_Scanes_Sorted/Validation/Glaucoma_Positive/641.jpg  \n",
            "  inflating: Fundus_Train_Val_Data/Fundus_Scanes_Sorted/Validation/Glaucoma_Positive/644.jpg  \n",
            "  inflating: Fundus_Train_Val_Data/Fundus_Scanes_Sorted/Validation/Glaucoma_Positive/645.jpg  \n",
            "  inflating: Fundus_Train_Val_Data/Fundus_Scanes_Sorted/Validation/Glaucoma_Positive/646.jpg  \n",
            "  inflating: Fundus_Train_Val_Data/Fundus_Scanes_Sorted/Validation/Glaucoma_Positive/647.jpg  \n",
            "  inflating: Fundus_Train_Val_Data/Fundus_Scanes_Sorted/Validation/Glaucoma_Positive/648.jpg  \n",
            "  inflating: Fundus_Train_Val_Data/Fundus_Scanes_Sorted/Validation/Glaucoma_Positive/650.jpg  \n",
            "  inflating: glaucoma.csv            \n"
          ],
          "name": "stdout"
        }
      ]
    },
    {
      "cell_type": "markdown",
      "metadata": {
        "id": "dqpFFCYzpSkI"
      },
      "source": [
        "\n",
        "Préparation des données entraînement /test / validation :"
      ]
    },
    {
      "cell_type": "code",
      "metadata": {
        "id": "z61cXkTDs7_B"
      },
      "source": [
        "DATAGlua_Train = '/content/Fundus_Train_Val_Data/Fundus_Scanes_Sorted/Train'\n",
        "DATAGlua_Test = '/content/Fundus_Train_Val_Data/Fundus_Scanes_Sorted/Validation'"
      ],
      "execution_count": null,
      "outputs": []
    },
    {
      "cell_type": "markdown",
      "metadata": {
        "id": "sgySESfNo85p"
      },
      "source": [
        "notre jeu deux de données est divisé en deux partie :\n",
        "\n",
        "*   des données avec un Gluacoma_positive\n",
        "*   des données avec un Gluacoma_négative\n",
        "\n",
        "\n",
        "\n"
      ]
    },
    {
      "cell_type": "code",
      "metadata": {
        "colab": {
          "base_uri": "https://localhost:8080/"
        },
        "id": "K6ZmlmtTs8Bk",
        "outputId": "0653fa2c-b8f8-4740-fb4f-fd1a66d6b7b5"
      },
      "source": [
        "CATEGORIES  = list()\n",
        "for root, dirs, files in os.walk(DATAGlua_Train, topdown=False):\n",
        "    for name in dirs:\n",
        "        CATEGORIES.append(os.path.join(name))\n",
        "print (CATEGORIES)"
      ],
      "execution_count": null,
      "outputs": [
        {
          "output_type": "stream",
          "text": [
            "['Glaucoma_Positive', 'Glaucoma_Negative']\n"
          ],
          "name": "stdout"
        }
      ]
    },
    {
      "cell_type": "markdown",
      "metadata": {
        "id": "55pWVscwp6me"
      },
      "source": [
        "\n",
        "Division l'ensemble de données d'entraînement en x_train_data et y_train_data : (x_train_data : 'les images' , y_train_data : 'label / catégorie ')"
      ]
    },
    {
      "cell_type": "code",
      "metadata": {
        "id": "AzfgnpDXs8D4"
      },
      "source": [
        "x_train_data = []\n",
        "y_train_data = []\n",
        "IMG_SIZE=224\n",
        "def creation_train_data():\n",
        "    for category in CATEGORIES:\n",
        "      path = os.path.join(DATAGlua_Train, category)\n",
        "      class_num = CATEGORIES.index(category)\n",
        "      for img in os.listdir(path):\n",
        "        try:\n",
        "            img_array = cv2.imread(os.path.join(path, img), cv2.IMREAD_COLOR)\n",
        "            new_array = cv2.resize(img_array, (IMG_SIZE,IMG_SIZE))\n",
        "            x_train_data.append(new_array)\n",
        "            y_train_data.append(class_num)\n",
        "        except Exception as e:\n",
        "            pass\n",
        "creation_train_data()"
      ],
      "execution_count": null,
      "outputs": []
    },
    {
      "cell_type": "code",
      "metadata": {
        "id": "P9ZDHqzds8GR"
      },
      "source": [
        "x_test_data = []\n",
        "y_test_data = []\n",
        "IMG_SIZE=224\n",
        "def creation_test_data():\n",
        "    for category in CATEGORIES:\n",
        "      path = os.path.join(DATAGlua_Test, category)\n",
        "      class_num = CATEGORIES.index(category)\n",
        "      for img in os.listdir(path):\n",
        "        try:\n",
        "            img_array = cv2.imread(os.path.join(path, img), cv2.IMREAD_COLOR)\n",
        "            new_array = cv2.resize(img_array, (IMG_SIZE,IMG_SIZE))\n",
        "            x_test_data.append(new_array)\n",
        "            y_test_data.append(class_num)\n",
        "        except Exception as e:\n",
        "            pass\n",
        "creation_test_data ()"
      ],
      "execution_count": null,
      "outputs": []
    },
    {
      "cell_type": "code",
      "metadata": {
        "id": "JOuN6Nhcs8IX"
      },
      "source": [
        "X_Train, X_Val, Y_Train, Y_Val = train_test_split(x_train_data, y_train_data, test_size=0.05, random_state=1)"
      ],
      "execution_count": null,
      "outputs": []
    },
    {
      "cell_type": "code",
      "metadata": {
        "id": "BUw3qXUNs8Ku"
      },
      "source": [
        "X_Train = np. squeeze(np.array(X_Train))\n",
        "X_Val = np. squeeze(np.array(X_Val))\n",
        "Y_Train = np. squeeze(np.array(Y_Train))\n",
        "Y_Val = np. squeeze(np.array(Y_Val))\n",
        "x_test_data = np. squeeze(np.array(x_test_data))"
      ],
      "execution_count": null,
      "outputs": []
    },
    {
      "cell_type": "markdown",
      "metadata": {
        "id": "zXa6shjJp9tZ"
      },
      "source": [
        "la taille du data test :"
      ]
    },
    {
      "cell_type": "code",
      "metadata": {
        "id": "Klhu5Aeyg7SY",
        "colab": {
          "base_uri": "https://localhost:8080/"
        },
        "outputId": "b866fe60-648a-43c1-f426-74a43a83f7aa"
      },
      "source": [
        "len(x_test_data)"
      ],
      "execution_count": null,
      "outputs": [
        {
          "output_type": "execute_result",
          "data": {
            "text/plain": [
              "130"
            ]
          },
          "metadata": {
            "tags": []
          },
          "execution_count": 138
        }
      ]
    },
    {
      "cell_type": "markdown",
      "metadata": {
        "id": "-t3oDgXyqA7i"
      },
      "source": [
        "la taille du data Train/Val"
      ]
    },
    {
      "cell_type": "code",
      "metadata": {
        "id": "pP-TI8Uthn3P",
        "colab": {
          "base_uri": "https://localhost:8080/"
        },
        "outputId": "dab94824-a791-45b9-97f1-c413673260b8"
      },
      "source": [
        "len(X_Train)"
      ],
      "execution_count": null,
      "outputs": [
        {
          "output_type": "execute_result",
          "data": {
            "text/plain": [
              "494"
            ]
          },
          "metadata": {
            "tags": []
          },
          "execution_count": 139
        }
      ]
    },
    {
      "cell_type": "code",
      "metadata": {
        "id": "ASHn_3Yds8NF"
      },
      "source": [
        "Y_Train = to_categorical(Y_Train)\n",
        "Y_Val = to_categorical(Y_Val)"
      ],
      "execution_count": null,
      "outputs": []
    },
    {
      "cell_type": "markdown",
      "metadata": {
        "id": "Eg72u7nf6HdQ"
      },
      "source": [
        "# **Transfer learning**"
      ]
    },
    {
      "cell_type": "markdown",
      "metadata": {
        "id": "GwcX7LIRqRxb"
      },
      "source": [
        "\n",
        "# Création du modèle:"
      ]
    },
    {
      "cell_type": "markdown",
      "metadata": {
        "id": "IMNSEXWitMDb"
      },
      "source": [
        "# **VGG16 Model**"
      ]
    },
    {
      "cell_type": "markdown",
      "metadata": {
        "id": "TYwZevO4kSeU"
      },
      "source": [
        "VGG16 est un modèle de réseau de neurones convolutif proposé par K. Simonyan et A. Zisserman de l'Université d'Oxford dans le document «Very Deep Convolutional Networks for Large-Scale Image Recognition». Le modèle atteint une précision de test de 92,7% dans le top 5 dans ImageNet, qui est un ensemble de données de plus de 14 millions d'images appartenant à 1000 classes. C'était l'un des modèles célèbres soumis à l'ILSVRC-2014. Il apporte une amélioration par rapport à AlexNet en remplaçant les grands filtres de la taille d'un noyau (11 et 5 dans la première et la deuxième couche convolutive, respectivement) par plusieurs filtres 3 × 3 de la taille d'un noyau l'un après l'autre. "
      ]
    },
    {
      "cell_type": "code",
      "metadata": {
        "id": "8lZiWSxts8P5"
      },
      "source": [
        "IMG_SHAPE = (224, 224,3)\n"
      ],
      "execution_count": null,
      "outputs": []
    },
    {
      "cell_type": "code",
      "metadata": {
        "id": "zoAPNfqns8SE"
      },
      "source": [
        "from keras.applications.vgg16 import VGG16\n",
        "from keras.applications.vgg16 import preprocess_input"
      ],
      "execution_count": null,
      "outputs": []
    },
    {
      "cell_type": "markdown",
      "metadata": {
        "id": "hC00V-jjqsJT"
      },
      "source": [
        "importer le modèle pré-entraîne VGG 16 :"
      ]
    },
    {
      "cell_type": "code",
      "metadata": {
        "id": "D0183MPGs8Ti"
      },
      "source": [
        "base_model = VGG16(input_shape=IMG_SHAPE, include_top=False, weights='imagenet')"
      ],
      "execution_count": null,
      "outputs": []
    },
    {
      "cell_type": "markdown",
      "metadata": {
        "id": "dC8LSdq4rOcL"
      },
      "source": [
        "affichage les layer du modèle VGG 16 et Figer le modèle pré-entraine en utilisant la commande layer.trainable = False "
      ]
    },
    {
      "cell_type": "code",
      "metadata": {
        "colab": {
          "base_uri": "https://localhost:8080/"
        },
        "id": "NyUwONuDssz2",
        "outputId": "228fe55e-52d6-4c44-e1ff-aa2b3951c299"
      },
      "source": [
        "for layer in base_model.layers:\n",
        "    print(layer.name)\n",
        "    layer.trainable = False\n",
        "    \n",
        "print(len(base_model.layers))"
      ],
      "execution_count": null,
      "outputs": [
        {
          "output_type": "stream",
          "text": [
            "input_5\n",
            "block1_conv1\n",
            "block1_conv2\n",
            "block1_pool\n",
            "block2_conv1\n",
            "block2_conv2\n",
            "block2_pool\n",
            "block3_conv1\n",
            "block3_conv2\n",
            "block3_conv3\n",
            "block3_pool\n",
            "block4_conv1\n",
            "block4_conv2\n",
            "block4_conv3\n",
            "block4_pool\n",
            "block5_conv1\n",
            "block5_conv2\n",
            "block5_conv3\n",
            "block5_pool\n",
            "19\n"
          ],
          "name": "stdout"
        }
      ]
    },
    {
      "cell_type": "code",
      "metadata": {
        "colab": {
          "base_uri": "https://localhost:8080/"
        },
        "id": "YVcPjx69ss2N",
        "outputId": "05773e29-7438-4061-98c0-09bfd0174e85"
      },
      "source": [
        "base_model.summary()"
      ],
      "execution_count": null,
      "outputs": [
        {
          "output_type": "stream",
          "text": [
            "Model: \"vgg16\"\n",
            "_________________________________________________________________\n",
            "Layer (type)                 Output Shape              Param #   \n",
            "=================================================================\n",
            "input_5 (InputLayer)         [(None, 224, 224, 3)]     0         \n",
            "_________________________________________________________________\n",
            "block1_conv1 (Conv2D)        (None, 224, 224, 64)      1792      \n",
            "_________________________________________________________________\n",
            "block1_conv2 (Conv2D)        (None, 224, 224, 64)      36928     \n",
            "_________________________________________________________________\n",
            "block1_pool (MaxPooling2D)   (None, 112, 112, 64)      0         \n",
            "_________________________________________________________________\n",
            "block2_conv1 (Conv2D)        (None, 112, 112, 128)     73856     \n",
            "_________________________________________________________________\n",
            "block2_conv2 (Conv2D)        (None, 112, 112, 128)     147584    \n",
            "_________________________________________________________________\n",
            "block2_pool (MaxPooling2D)   (None, 56, 56, 128)       0         \n",
            "_________________________________________________________________\n",
            "block3_conv1 (Conv2D)        (None, 56, 56, 256)       295168    \n",
            "_________________________________________________________________\n",
            "block3_conv2 (Conv2D)        (None, 56, 56, 256)       590080    \n",
            "_________________________________________________________________\n",
            "block3_conv3 (Conv2D)        (None, 56, 56, 256)       590080    \n",
            "_________________________________________________________________\n",
            "block3_pool (MaxPooling2D)   (None, 28, 28, 256)       0         \n",
            "_________________________________________________________________\n",
            "block4_conv1 (Conv2D)        (None, 28, 28, 512)       1180160   \n",
            "_________________________________________________________________\n",
            "block4_conv2 (Conv2D)        (None, 28, 28, 512)       2359808   \n",
            "_________________________________________________________________\n",
            "block4_conv3 (Conv2D)        (None, 28, 28, 512)       2359808   \n",
            "_________________________________________________________________\n",
            "block4_pool (MaxPooling2D)   (None, 14, 14, 512)       0         \n",
            "_________________________________________________________________\n",
            "block5_conv1 (Conv2D)        (None, 14, 14, 512)       2359808   \n",
            "_________________________________________________________________\n",
            "block5_conv2 (Conv2D)        (None, 14, 14, 512)       2359808   \n",
            "_________________________________________________________________\n",
            "block5_conv3 (Conv2D)        (None, 14, 14, 512)       2359808   \n",
            "_________________________________________________________________\n",
            "block5_pool (MaxPooling2D)   (None, 7, 7, 512)         0         \n",
            "=================================================================\n",
            "Total params: 14,714,688\n",
            "Trainable params: 0\n",
            "Non-trainable params: 14,714,688\n",
            "_________________________________________________________________\n"
          ],
          "name": "stdout"
        }
      ]
    },
    {
      "cell_type": "code",
      "metadata": {
        "id": "fXP1Th4Kss4i"
      },
      "source": [
        "base_model.trainable = False"
      ],
      "execution_count": null,
      "outputs": []
    },
    {
      "cell_type": "markdown",
      "metadata": {
        "id": "yHyRpLJlr8j5"
      },
      "source": [
        "la sortie du modèle pré-entraîne :"
      ]
    },
    {
      "cell_type": "code",
      "metadata": {
        "colab": {
          "base_uri": "https://localhost:8080/"
        },
        "id": "PWdKYnYNss6-",
        "outputId": "73303480-845b-4cbd-f450-0d6fcff017e5"
      },
      "source": [
        "base_model.output"
      ],
      "execution_count": null,
      "outputs": [
        {
          "output_type": "execute_result",
          "data": {
            "text/plain": [
              "<KerasTensor: shape=(None, 7, 7, 512) dtype=float32 (created by layer 'block5_pool')>"
            ]
          },
          "metadata": {
            "tags": []
          },
          "execution_count": 147
        }
      ]
    },
    {
      "cell_type": "markdown",
      "metadata": {
        "id": "T_PG_N2lsFdw"
      },
      "source": [
        "Création d'un nouveau modèle qui va se baser sur les résultas du modèle pré-entraîne :\n",
        "\n",
        "nous utilisons plusieurs layer : Global MaxPooling2d / dense / Dropout ,\n",
        "et comme un optimizer nous avons testé plusieurs optimizer  (sgd /adam ) mais se dernier qui a donnée le meilleur résultat"
      ]
    },
    {
      "cell_type": "code",
      "metadata": {
        "id": "6iR5nN2vss9Y"
      },
      "source": [
        "x = layers.GlobalMaxPooling2D()(base_model.output)\n",
        "x = layers.Dense(512, activation='relu')(x)\n",
        "x = layers.Dropout(0.5)(x)\n",
        "x = layers.Dense(2, activation='softmax')(x)\n",
        "\n",
        "model = Model(base_model.input, x)\n",
        "optimizer = Adam(lr=0.0001, beta_1=0.9, beta_2=0.999, epsilon=None, decay=0.0, amsgrad=True)\n",
        "model.compile(loss='categorical_crossentropy',\n",
        "              optimizer=optimizer ,\n",
        "              metrics=['accuracy'])"
      ],
      "execution_count": null,
      "outputs": []
    },
    {
      "cell_type": "code",
      "metadata": {
        "colab": {
          "base_uri": "https://localhost:8080/"
        },
        "id": "HqNfIB_ess_p",
        "outputId": "baf7f0ce-40f8-488f-912c-2dbc664555be"
      },
      "source": [
        "model.summary()"
      ],
      "execution_count": null,
      "outputs": [
        {
          "output_type": "stream",
          "text": [
            "Model: \"model_4\"\n",
            "_________________________________________________________________\n",
            "Layer (type)                 Output Shape              Param #   \n",
            "=================================================================\n",
            "input_5 (InputLayer)         [(None, 224, 224, 3)]     0         \n",
            "_________________________________________________________________\n",
            "block1_conv1 (Conv2D)        (None, 224, 224, 64)      1792      \n",
            "_________________________________________________________________\n",
            "block1_conv2 (Conv2D)        (None, 224, 224, 64)      36928     \n",
            "_________________________________________________________________\n",
            "block1_pool (MaxPooling2D)   (None, 112, 112, 64)      0         \n",
            "_________________________________________________________________\n",
            "block2_conv1 (Conv2D)        (None, 112, 112, 128)     73856     \n",
            "_________________________________________________________________\n",
            "block2_conv2 (Conv2D)        (None, 112, 112, 128)     147584    \n",
            "_________________________________________________________________\n",
            "block2_pool (MaxPooling2D)   (None, 56, 56, 128)       0         \n",
            "_________________________________________________________________\n",
            "block3_conv1 (Conv2D)        (None, 56, 56, 256)       295168    \n",
            "_________________________________________________________________\n",
            "block3_conv2 (Conv2D)        (None, 56, 56, 256)       590080    \n",
            "_________________________________________________________________\n",
            "block3_conv3 (Conv2D)        (None, 56, 56, 256)       590080    \n",
            "_________________________________________________________________\n",
            "block3_pool (MaxPooling2D)   (None, 28, 28, 256)       0         \n",
            "_________________________________________________________________\n",
            "block4_conv1 (Conv2D)        (None, 28, 28, 512)       1180160   \n",
            "_________________________________________________________________\n",
            "block4_conv2 (Conv2D)        (None, 28, 28, 512)       2359808   \n",
            "_________________________________________________________________\n",
            "block4_conv3 (Conv2D)        (None, 28, 28, 512)       2359808   \n",
            "_________________________________________________________________\n",
            "block4_pool (MaxPooling2D)   (None, 14, 14, 512)       0         \n",
            "_________________________________________________________________\n",
            "block5_conv1 (Conv2D)        (None, 14, 14, 512)       2359808   \n",
            "_________________________________________________________________\n",
            "block5_conv2 (Conv2D)        (None, 14, 14, 512)       2359808   \n",
            "_________________________________________________________________\n",
            "block5_conv3 (Conv2D)        (None, 14, 14, 512)       2359808   \n",
            "_________________________________________________________________\n",
            "block5_pool (MaxPooling2D)   (None, 7, 7, 512)         0         \n",
            "_________________________________________________________________\n",
            "global_max_pooling2d_4 (Glob (None, 512)               0         \n",
            "_________________________________________________________________\n",
            "dense_8 (Dense)              (None, 512)               262656    \n",
            "_________________________________________________________________\n",
            "dropout_4 (Dropout)          (None, 512)               0         \n",
            "_________________________________________________________________\n",
            "dense_9 (Dense)              (None, 2)                 1026      \n",
            "=================================================================\n",
            "Total params: 14,978,370\n",
            "Trainable params: 263,682\n",
            "Non-trainable params: 14,714,688\n",
            "_________________________________________________________________\n"
          ],
          "name": "stdout"
        }
      ]
    },
    {
      "cell_type": "markdown",
      "metadata": {
        "id": "MCL906ccuLlt"
      },
      "source": [
        "une étape importante avant d'entrainer le modèle est la normalisation pour mettre à l'échelle les valeurs d'entrée (initialement dans la plage [0, 255]) à la plage [0, 1]. cette normalisation est effectuée en utilisant la fonction ImageDataGenerator .\n",
        "catte fonction va nous permis de normaliser les données d'entrée test et validation.\n",
        "cette fonction est utilisable aussi pour l'augmentation des données .\n",
        "\n",
        "\n",
        "\n",
        "\n"
      ]
    },
    {
      "cell_type": "markdown",
      "metadata": {
        "id": "X61SFez0x1tN"
      },
      "source": [
        "Augmentation et normalisation du données test :"
      ]
    },
    {
      "cell_type": "code",
      "metadata": {
        "id": "zFAtAeO7stCH"
      },
      "source": [
        "train_datagen = ImageDataGenerator(rescale = 1./255, rotation_range=60, width_shift_range=0.2, height_shift_range=0.2,\n",
        "                                   shear_range=0.2, zoom_range=0.2, fill_mode='nearest')\n"
      ],
      "execution_count": null,
      "outputs": []
    },
    {
      "cell_type": "code",
      "metadata": {
        "id": "7xyKZivRstEm"
      },
      "source": [
        "train_datagen.fit(X_Train)"
      ],
      "execution_count": null,
      "outputs": []
    },
    {
      "cell_type": "markdown",
      "metadata": {
        "id": "UFncHZ5tx8FQ"
      },
      "source": [
        "normalisation du données de validation :"
      ]
    },
    {
      "cell_type": "code",
      "metadata": {
        "id": "9ftmk_RestHB"
      },
      "source": [
        "val_datagen = ImageDataGenerator(rescale = 1./255)\n",
        "val_datagen.fit(X_Val)"
      ],
      "execution_count": null,
      "outputs": []
    },
    {
      "cell_type": "markdown",
      "metadata": {
        "id": "GOAwZ5nuBvpR"
      },
      "source": [
        "Entraînement du modèle avec des layers du modèle pré-entrâine ( en mode freeze)"
      ]
    },
    {
      "cell_type": "code",
      "metadata": {
        "colab": {
          "base_uri": "https://localhost:8080/"
        },
        "id": "RP-bjuTxstJk",
        "outputId": "1acab8cc-b948-4b8f-87a7-2ae4ef35377a"
      },
      "source": [
        "train_model = model.fit(X_Train, Y_Train, batch_size=64, epochs=15,\n",
        "                    validation_data=(X_Val, Y_Val))"
      ],
      "execution_count": null,
      "outputs": [
        {
          "output_type": "stream",
          "text": [
            "Epoch 1/15\n",
            "8/8 [==============================] - 3s 261ms/step - loss: 36.2300 - accuracy: 0.3674 - val_loss: 9.1973 - val_accuracy: 0.8462\n",
            "Epoch 2/15\n",
            "8/8 [==============================] - 2s 237ms/step - loss: 15.6611 - accuracy: 0.7106 - val_loss: 11.3235 - val_accuracy: 0.8462\n",
            "Epoch 3/15\n",
            "8/8 [==============================] - 2s 236ms/step - loss: 15.8711 - accuracy: 0.6631 - val_loss: 4.9902 - val_accuracy: 0.8077\n",
            "Epoch 4/15\n",
            "8/8 [==============================] - 2s 238ms/step - loss: 12.3618 - accuracy: 0.5935 - val_loss: 4.1943 - val_accuracy: 0.7692\n",
            "Epoch 5/15\n",
            "8/8 [==============================] - 2s 236ms/step - loss: 11.9812 - accuracy: 0.5971 - val_loss: 5.8788 - val_accuracy: 0.8077\n",
            "Epoch 6/15\n",
            "8/8 [==============================] - 2s 237ms/step - loss: 12.2903 - accuracy: 0.6623 - val_loss: 4.5759 - val_accuracy: 0.8462\n",
            "Epoch 7/15\n",
            "8/8 [==============================] - 2s 236ms/step - loss: 10.0332 - accuracy: 0.6701 - val_loss: 5.5661 - val_accuracy: 0.8462\n",
            "Epoch 8/15\n",
            "8/8 [==============================] - 2s 237ms/step - loss: 11.0514 - accuracy: 0.6998 - val_loss: 5.6512 - val_accuracy: 0.8462\n",
            "Epoch 9/15\n",
            "8/8 [==============================] - 2s 237ms/step - loss: 8.3910 - accuracy: 0.6579 - val_loss: 5.0932 - val_accuracy: 0.8462\n",
            "Epoch 10/15\n",
            "8/8 [==============================] - 2s 239ms/step - loss: 8.2825 - accuracy: 0.7093 - val_loss: 5.2975 - val_accuracy: 0.8462\n",
            "Epoch 11/15\n",
            "8/8 [==============================] - 2s 239ms/step - loss: 7.2322 - accuracy: 0.7341 - val_loss: 5.0246 - val_accuracy: 0.8462\n",
            "Epoch 12/15\n",
            "8/8 [==============================] - 2s 241ms/step - loss: 9.8991 - accuracy: 0.6704 - val_loss: 4.8914 - val_accuracy: 0.8462\n",
            "Epoch 13/15\n",
            "8/8 [==============================] - 2s 241ms/step - loss: 7.2810 - accuracy: 0.7251 - val_loss: 4.4756 - val_accuracy: 0.8462\n",
            "Epoch 14/15\n",
            "8/8 [==============================] - 2s 242ms/step - loss: 7.6083 - accuracy: 0.6836 - val_loss: 4.7694 - val_accuracy: 0.8462\n",
            "Epoch 15/15\n",
            "8/8 [==============================] - 2s 242ms/step - loss: 7.1647 - accuracy: 0.7082 - val_loss: 4.5170 - val_accuracy: 0.8077\n"
          ],
          "name": "stdout"
        }
      ]
    },
    {
      "cell_type": "markdown",
      "metadata": {
        "id": "iBjipRTv53nB"
      },
      "source": [
        "# **fine-tuning**"
      ]
    },
    {
      "cell_type": "markdown",
      "metadata": {
        "id": "jVZoe2bV2ICZ"
      },
      "source": [
        "dégelons maintenant le modèle de base et formons l'ensemble du modèle de bout en bout avec un faible taux d'apprentissage.\n",
        "\n",
        "Il est important de noter que bien que le modèle de base devienne entraînable, il fonctionne toujours en mode inférence puisque nous avons passé training = False lors de son appel lorsque nous avons construit le modèle. "
      ]
    },
    {
      "cell_type": "code",
      "metadata": {
        "id": "FSYO6aYtstOF",
        "colab": {
          "base_uri": "https://localhost:8080/"
        },
        "outputId": "27361229-7278-49e7-cb9e-5911014c689c"
      },
      "source": [
        "for layer in model.layers:\n",
        "    print(layer.name)\n",
        "    layer.trainable = True\n",
        "optimizer = Adam(lr=0.0001, beta_1=0.9, beta_2=0.999, epsilon=None, decay=0.0, amsgrad=True)\n",
        "model.compile(loss='categorical_crossentropy',\n",
        "              optimizer=optimizer,\n",
        "              metrics=['acc'])"
      ],
      "execution_count": null,
      "outputs": [
        {
          "output_type": "stream",
          "text": [
            "input_5\n",
            "block1_conv1\n",
            "block1_conv2\n",
            "block1_pool\n",
            "block2_conv1\n",
            "block2_conv2\n",
            "block2_pool\n",
            "block3_conv1\n",
            "block3_conv2\n",
            "block3_conv3\n",
            "block3_pool\n",
            "block4_conv1\n",
            "block4_conv2\n",
            "block4_conv3\n",
            "block4_pool\n",
            "block5_conv1\n",
            "block5_conv2\n",
            "block5_conv3\n",
            "block5_pool\n",
            "global_max_pooling2d_4\n",
            "dense_8\n",
            "dropout_4\n",
            "dense_9\n"
          ],
          "name": "stdout"
        }
      ]
    },
    {
      "cell_type": "code",
      "metadata": {
        "colab": {
          "base_uri": "https://localhost:8080/"
        },
        "id": "c05-1pR2uQne",
        "outputId": "f9e5980f-48d1-49ba-fe85-7a5189ab2a34"
      },
      "source": [
        "model.summary()"
      ],
      "execution_count": null,
      "outputs": [
        {
          "output_type": "stream",
          "text": [
            "Model: \"model_4\"\n",
            "_________________________________________________________________\n",
            "Layer (type)                 Output Shape              Param #   \n",
            "=================================================================\n",
            "input_5 (InputLayer)         [(None, 224, 224, 3)]     0         \n",
            "_________________________________________________________________\n",
            "block1_conv1 (Conv2D)        (None, 224, 224, 64)      1792      \n",
            "_________________________________________________________________\n",
            "block1_conv2 (Conv2D)        (None, 224, 224, 64)      36928     \n",
            "_________________________________________________________________\n",
            "block1_pool (MaxPooling2D)   (None, 112, 112, 64)      0         \n",
            "_________________________________________________________________\n",
            "block2_conv1 (Conv2D)        (None, 112, 112, 128)     73856     \n",
            "_________________________________________________________________\n",
            "block2_conv2 (Conv2D)        (None, 112, 112, 128)     147584    \n",
            "_________________________________________________________________\n",
            "block2_pool (MaxPooling2D)   (None, 56, 56, 128)       0         \n",
            "_________________________________________________________________\n",
            "block3_conv1 (Conv2D)        (None, 56, 56, 256)       295168    \n",
            "_________________________________________________________________\n",
            "block3_conv2 (Conv2D)        (None, 56, 56, 256)       590080    \n",
            "_________________________________________________________________\n",
            "block3_conv3 (Conv2D)        (None, 56, 56, 256)       590080    \n",
            "_________________________________________________________________\n",
            "block3_pool (MaxPooling2D)   (None, 28, 28, 256)       0         \n",
            "_________________________________________________________________\n",
            "block4_conv1 (Conv2D)        (None, 28, 28, 512)       1180160   \n",
            "_________________________________________________________________\n",
            "block4_conv2 (Conv2D)        (None, 28, 28, 512)       2359808   \n",
            "_________________________________________________________________\n",
            "block4_conv3 (Conv2D)        (None, 28, 28, 512)       2359808   \n",
            "_________________________________________________________________\n",
            "block4_pool (MaxPooling2D)   (None, 14, 14, 512)       0         \n",
            "_________________________________________________________________\n",
            "block5_conv1 (Conv2D)        (None, 14, 14, 512)       2359808   \n",
            "_________________________________________________________________\n",
            "block5_conv2 (Conv2D)        (None, 14, 14, 512)       2359808   \n",
            "_________________________________________________________________\n",
            "block5_conv3 (Conv2D)        (None, 14, 14, 512)       2359808   \n",
            "_________________________________________________________________\n",
            "block5_pool (MaxPooling2D)   (None, 7, 7, 512)         0         \n",
            "_________________________________________________________________\n",
            "global_max_pooling2d_4 (Glob (None, 512)               0         \n",
            "_________________________________________________________________\n",
            "dense_8 (Dense)              (None, 512)               262656    \n",
            "_________________________________________________________________\n",
            "dropout_4 (Dropout)          (None, 512)               0         \n",
            "_________________________________________________________________\n",
            "dense_9 (Dense)              (None, 2)                 1026      \n",
            "=================================================================\n",
            "Total params: 14,978,370\n",
            "Trainable params: 14,978,370\n",
            "Non-trainable params: 0\n",
            "_________________________________________________________________\n"
          ],
          "name": "stdout"
        }
      ]
    },
    {
      "cell_type": "code",
      "metadata": {
        "id": "BSlsIMcduQqQ"
      },
      "source": [
        "learning_rate_reduction = ReduceLROnPlateau(monitor='val_acc', patience=3, verbose=1, factor=0.5, \n",
        "                                            min_lr=0.000001, cooldown=3)"
      ],
      "execution_count": null,
      "outputs": []
    },
    {
      "cell_type": "code",
      "metadata": {
        "colab": {
          "base_uri": "https://localhost:8080/"
        },
        "id": "QNTgUIneuQs0",
        "outputId": "007e511a-1a6b-4544-f8bc-956f0247ec4e"
      },
      "source": [
        "train_model  = model.fit(X_Train, Y_Train, batch_size=64, epochs=5,\n",
        "                    validation_data=(X_Val, Y_Val))"
      ],
      "execution_count": null,
      "outputs": [
        {
          "output_type": "stream",
          "text": [
            "Epoch 1/5\n",
            "8/8 [==============================] - 7s 800ms/step - loss: 7.9047 - acc: 0.6336 - val_loss: 0.6396 - val_acc: 0.8462\n",
            "Epoch 2/5\n",
            "8/8 [==============================] - 6s 772ms/step - loss: 1.0390 - acc: 0.6397 - val_loss: 0.5340 - val_acc: 0.7308\n",
            "Epoch 3/5\n",
            "8/8 [==============================] - 6s 775ms/step - loss: 0.7577 - acc: 0.5778 - val_loss: 0.5170 - val_acc: 0.8462\n",
            "Epoch 4/5\n",
            "8/8 [==============================] - 6s 780ms/step - loss: 0.6178 - acc: 0.6714 - val_loss: 0.4761 - val_acc: 0.8462\n",
            "Epoch 5/5\n",
            "8/8 [==============================] - 6s 778ms/step - loss: 0.6155 - acc: 0.7168 - val_loss: 0.5167 - val_acc: 0.8462\n"
          ],
          "name": "stdout"
        }
      ]
    },
    {
      "cell_type": "code",
      "metadata": {
        "colab": {
          "base_uri": "https://localhost:8080/"
        },
        "id": "F3lOJKumuQvN",
        "outputId": "b433dc9c-39d0-4fe3-ead9-d15e16801dae"
      },
      "source": [
        "loss_val, acc_val = model.evaluate(X_Val, Y_Val, verbose=1)\n",
        "print(\"Validation: accuracy = %f  ;  loss_v = %f\" % (acc_val, loss_val))"
      ],
      "execution_count": null,
      "outputs": [
        {
          "output_type": "stream",
          "text": [
            "1/1 [==============================] - 0s 114ms/step - loss: 0.5167 - acc: 0.8462\n",
            "Validation: accuracy = 0.846154  ;  loss_v = 0.516706\n"
          ],
          "name": "stdout"
        }
      ]
    },
    {
      "cell_type": "markdown",
      "metadata": {
        "id": "BYGk29CIu7tH"
      },
      "source": [
        "Test :"
      ]
    },
    {
      "cell_type": "code",
      "metadata": {
        "colab": {
          "base_uri": "https://localhost:8080/"
        },
        "id": "FMGmQU7YuQxm",
        "outputId": "f84a8646-c7be-4b4b-d794-2dd938b1a8c2"
      },
      "source": [
        "y_test_data = to_categorical(y_test_data)\n",
        "loss_test, acc_test = model.evaluate(x_test_data, y_test_data, verbose=1)\n",
        "print(\"Test: accuracy = %f  ;  loss = %f\" % (acc_test, loss_test))"
      ],
      "execution_count": null,
      "outputs": [
        {
          "output_type": "stream",
          "text": [
            "5/5 [==============================] - 0s 92ms/step - loss: 0.6038 - acc: 0.7154\n",
            "Test: accuracy = 0.715385  ;  loss = 0.603824\n"
          ],
          "name": "stdout"
        }
      ]
    },
    {
      "cell_type": "code",
      "metadata": {
        "id": "b20XKcNzu45p"
      },
      "source": [
        "model.save(\"VGG16.h5\")"
      ],
      "execution_count": null,
      "outputs": []
    },
    {
      "cell_type": "code",
      "metadata": {
        "colab": {
          "base_uri": "https://localhost:8080/",
          "height": 562
        },
        "id": "FDixMIryu48I",
        "outputId": "08d2e9c3-9a36-427d-d2f3-d5357d837ddc"
      },
      "source": [
        "acc = train_model.history['acc']\n",
        "val_acc = train_model .history['val_acc']\n",
        "\n",
        "loss = train_model.history['loss']\n",
        "val_loss = train_model .history['val_loss']\n",
        "\n",
        "\n",
        "epochs = range(len(acc))\n",
        "\n",
        "\n",
        "plt.plot(epochs, acc, label = \"training\")\n",
        "plt.plot(epochs, val_acc, label = \"validation\")\n",
        "plt.legend(loc=\"upper left\")\n",
        "plt.title('Training and validation accuracy')\n",
        "\n",
        "plt.figure()\n",
        "\n",
        "\n",
        "plt.plot(epochs, loss, label = \"training\")\n",
        "plt.plot(epochs, val_loss, label = \"validation\")\n",
        "plt.legend(loc=\"upper right\")\n",
        "plt.title('Training and validation loss')"
      ],
      "execution_count": null,
      "outputs": [
        {
          "output_type": "execute_result",
          "data": {
            "text/plain": [
              "Text(0.5, 1.0, 'Training and validation loss')"
            ]
          },
          "metadata": {
            "tags": []
          },
          "execution_count": 161
        },
        {
          "output_type": "display_data",
          "data": {
            "image/png": "[encoded data removed]",
            "text/plain": [
              "<Figure size 432x288 with 1 Axes>"
            ]
          },
          "metadata": {
            "tags": [],
            "needs_background": "light"
          }
        },
        {
          "output_type": "display_data",
          "data": {
            "image/png": "[encoded data removed]",
            "text/plain": [
              "<Figure size 432x288 with 1 Axes>"
            ]
          },
          "metadata": {
            "tags": [],
            "needs_background": "light"
          }
        }
      ]
    }
  ]
}